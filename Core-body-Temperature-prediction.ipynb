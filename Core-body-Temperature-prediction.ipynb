{
  "nbformat": 4,
  "nbformat_minor": 0,
  "metadata": {
    "colab": {
      "name": "Veerapandian_kenzen_new.ipynb",
      "provenance": [],
      "collapsed_sections": []
    },
    "kernelspec": {
      "name": "python3",
      "display_name": "Python 3"
    }
  },
  "cells": [
    {
      "cell_type": "markdown",
      "metadata": {
        "id": "8px8LJwqA9sB"
      },
      "source": [
        "#Loading Libraries"
      ]
    },
    {
      "cell_type": "code",
      "metadata": {
        "colab": {
          "base_uri": "https://localhost:8080/",
          "height": 17
        },
        "id": "cwI_txe0Ckkv",
        "outputId": "eeb64881-7e2b-45e3-e600-c90a89f02a7e"
      },
      "source": [
        "import numpy as np\r\n",
        "import pandas as pd\r\n",
        "import matplotlib.pyplot as plt\r\n",
        "import seaborn as sns\r\n",
        "from sklearn.model_selection import train_test_split\r\n",
        "from sklearn.preprocessing import StandardScaler \r\n",
        "from sklearn import preprocessing, model_selection, metrics\r\n",
        "from plotly.offline import init_notebook_mode, iplot\r\n",
        "init_notebook_mode(connected=True)\r\n",
        "import plotly.graph_objs as go\r\n",
        "import re\r\n",
        "from IPython.display import display\r\n",
        "%matplotlib inline\r\n",
        "\r\n",
        "\r\n",
        "import warnings\r\n",
        "warnings.filterwarnings('ignore')"
      ],
      "execution_count": 1,
      "outputs": [
        {
          "output_type": "display_data",
          "data": {
            "text/html": [
              "        <script type=\"text/javascript\">\n",
              "        window.PlotlyConfig = {MathJaxConfig: 'local'};\n",
              "        if (window.MathJax) {MathJax.Hub.Config({SVG: {font: \"STIX-Web\"}});}\n",
              "        if (typeof require !== 'undefined') {\n",
              "        require.undef(\"plotly\");\n",
              "        requirejs.config({\n",
              "            paths: {\n",
              "                'plotly': ['https://cdn.plot.ly/plotly-latest.min']\n",
              "            }\n",
              "        });\n",
              "        require(['plotly'], function(Plotly) {\n",
              "            window._Plotly = Plotly;\n",
              "        });\n",
              "        }\n",
              "        </script>\n",
              "        "
            ]
          },
          "metadata": {
            "tags": []
          }
        }
      ]
    },
    {
      "cell_type": "markdown",
      "metadata": {
        "id": "0MiQlXVRBFhk"
      },
      "source": [
        "#Setting Seed"
      ]
    },
    {
      "cell_type": "code",
      "metadata": {
        "id": "WpotqfhMD0Ej"
      },
      "source": [
        "np.random.seed(2020)"
      ],
      "execution_count": 2,
      "outputs": []
    },
    {
      "cell_type": "markdown",
      "metadata": {
        "id": "pfOzVQXIBJSL"
      },
      "source": [
        "#Loading data"
      ]
    },
    {
      "cell_type": "code",
      "metadata": {
        "id": "wlGeLGdbytWf"
      },
      "source": [
        "import glob\r\n",
        "import zipfile\r\n",
        "import pandas as pd\r\n",
        "\r\n",
        "for zip_file in glob.glob(\"/content/kenzen_data_challenge.zip\"):\r\n",
        "    zf = zipfile.ZipFile(zip_file)\r\n",
        "    dfs = [pd.read_csv(zf.open(f)) for f in zf.namelist()]\r\n",
        "    df = pd.concat(dfs,ignore_index=True)"
      ],
      "execution_count": 3,
      "outputs": []
    },
    {
      "cell_type": "code",
      "metadata": {
        "colab": {
          "base_uri": "https://localhost:8080/"
        },
        "id": "EO8Xcq2re_Mw",
        "outputId": "716541a3-b9b8-4d59-89a2-866fa08781d5"
      },
      "source": [
        "print (\"The data file has \" + str(df.shape[1]) + \" columns and \" + str(df.shape[0]) + \" rows\")"
      ],
      "execution_count": 4,
      "outputs": [
        {
          "output_type": "stream",
          "text": [
            "The data file has 33 columns and 2822175 rows\n"
          ],
          "name": "stdout"
        }
      ]
    },
    {
      "cell_type": "markdown",
      "metadata": {
        "id": "DYgZSSvjBnPp"
      },
      "source": [
        "There are 33 columns and 2822175 rows in the combined data for all 15 users with 2 trails each."
      ]
    },
    {
      "cell_type": "code",
      "metadata": {
        "id": "hEughI2nzyFR"
      },
      "source": [
        "df.columns = df.columns.str.replace(' ', '')"
      ],
      "execution_count": 5,
      "outputs": []
    },
    {
      "cell_type": "code",
      "metadata": {
        "colab": {
          "base_uri": "https://localhost:8080/",
          "height": 313
        },
        "id": "75s-_wZ5FI_w",
        "outputId": "f35d51e0-22e5-4355-c138-048aa75b9ea6"
      },
      "source": [
        "df.head(5)"
      ],
      "execution_count": 6,
      "outputs": [
        {
          "output_type": "execute_result",
          "data": {
            "text/html": [
              "<div>\n",
              "<style scoped>\n",
              "    .dataframe tbody tr th:only-of-type {\n",
              "        vertical-align: middle;\n",
              "    }\n",
              "\n",
              "    .dataframe tbody tr th {\n",
              "        vertical-align: top;\n",
              "    }\n",
              "\n",
              "    .dataframe thead th {\n",
              "        text-align: right;\n",
              "    }\n",
              "</style>\n",
              "<table border=\"1\" class=\"dataframe\">\n",
              "  <thead>\n",
              "    <tr style=\"text-align: right;\">\n",
              "      <th></th>\n",
              "      <th>userId</th>\n",
              "      <th>DateTime</th>\n",
              "      <th>signalQ1</th>\n",
              "      <th>signalQ2</th>\n",
              "      <th>heartRate</th>\n",
              "      <th>heartRateAvg</th>\n",
              "      <th>stepRate</th>\n",
              "      <th>skinRH109</th>\n",
              "      <th>skinTemp109</th>\n",
              "      <th>ambientRH110</th>\n",
              "      <th>ambientTemp110</th>\n",
              "      <th>Flag</th>\n",
              "      <th>Tc</th>\n",
              "      <th>PatchId</th>\n",
              "      <th>SubjectId</th>\n",
              "      <th>Trial</th>\n",
              "      <th>Age</th>\n",
              "      <th>Sex</th>\n",
              "      <th>MenstrualPhase</th>\n",
              "      <th>Height</th>\n",
              "      <th>Weight</th>\n",
              "      <th>TrialType</th>\n",
              "      <th>medicalQuestion1</th>\n",
              "      <th>medicalQuestion2</th>\n",
              "      <th>medicalQuestion3</th>\n",
              "      <th>medicalQuestion4</th>\n",
              "      <th>medicalQuestion5</th>\n",
              "      <th>medicalQuestion6</th>\n",
              "      <th>medicalQuestion7</th>\n",
              "      <th>medicalQuestion8</th>\n",
              "      <th>medicalQuestion9</th>\n",
              "      <th>medicalQuestion10</th>\n",
              "      <th>medicalQuestion11</th>\n",
              "    </tr>\n",
              "  </thead>\n",
              "  <tbody>\n",
              "    <tr>\n",
              "      <th>0</th>\n",
              "      <td>314</td>\n",
              "      <td>2020-10-09 12:27:41</td>\n",
              "      <td>0</td>\n",
              "      <td>9</td>\n",
              "      <td>NaN</td>\n",
              "      <td>123.02</td>\n",
              "      <td>112</td>\n",
              "      <td>NaN</td>\n",
              "      <td>NaN</td>\n",
              "      <td>NaN</td>\n",
              "      <td>NaN</td>\n",
              "      <td>NaN</td>\n",
              "      <td>NaN</td>\n",
              "      <td>31C9</td>\n",
              "      <td>TC1047</td>\n",
              "      <td>Part 2A</td>\n",
              "      <td>22</td>\n",
              "      <td>Female</td>\n",
              "      <td>luteal</td>\n",
              "      <td>175.0</td>\n",
              "      <td>63.0</td>\n",
              "      <td>Continuous</td>\n",
              "      <td>No</td>\n",
              "      <td>No</td>\n",
              "      <td>No</td>\n",
              "      <td>No</td>\n",
              "      <td>No</td>\n",
              "      <td>No</td>\n",
              "      <td>No</td>\n",
              "      <td>No</td>\n",
              "      <td>Yes</td>\n",
              "      <td>Yes</td>\n",
              "      <td>Yes, &gt;6 months ago</td>\n",
              "    </tr>\n",
              "    <tr>\n",
              "      <th>1</th>\n",
              "      <td>314</td>\n",
              "      <td>2020-10-09 12:27:42</td>\n",
              "      <td>0</td>\n",
              "      <td>11</td>\n",
              "      <td>NaN</td>\n",
              "      <td>123.02</td>\n",
              "      <td>110</td>\n",
              "      <td>NaN</td>\n",
              "      <td>NaN</td>\n",
              "      <td>NaN</td>\n",
              "      <td>NaN</td>\n",
              "      <td>NaN</td>\n",
              "      <td>NaN</td>\n",
              "      <td>31C9</td>\n",
              "      <td>TC1047</td>\n",
              "      <td>Part 2A</td>\n",
              "      <td>22</td>\n",
              "      <td>Female</td>\n",
              "      <td>luteal</td>\n",
              "      <td>175.0</td>\n",
              "      <td>63.0</td>\n",
              "      <td>Continuous</td>\n",
              "      <td>No</td>\n",
              "      <td>No</td>\n",
              "      <td>No</td>\n",
              "      <td>No</td>\n",
              "      <td>No</td>\n",
              "      <td>No</td>\n",
              "      <td>No</td>\n",
              "      <td>No</td>\n",
              "      <td>Yes</td>\n",
              "      <td>Yes</td>\n",
              "      <td>Yes, &gt;6 months ago</td>\n",
              "    </tr>\n",
              "    <tr>\n",
              "      <th>2</th>\n",
              "      <td>314</td>\n",
              "      <td>2020-10-09 12:27:43</td>\n",
              "      <td>0</td>\n",
              "      <td>11</td>\n",
              "      <td>NaN</td>\n",
              "      <td>123.02</td>\n",
              "      <td>110</td>\n",
              "      <td>NaN</td>\n",
              "      <td>NaN</td>\n",
              "      <td>NaN</td>\n",
              "      <td>NaN</td>\n",
              "      <td>NaN</td>\n",
              "      <td>NaN</td>\n",
              "      <td>31C9</td>\n",
              "      <td>TC1047</td>\n",
              "      <td>Part 2A</td>\n",
              "      <td>22</td>\n",
              "      <td>Female</td>\n",
              "      <td>luteal</td>\n",
              "      <td>175.0</td>\n",
              "      <td>63.0</td>\n",
              "      <td>Continuous</td>\n",
              "      <td>No</td>\n",
              "      <td>No</td>\n",
              "      <td>No</td>\n",
              "      <td>No</td>\n",
              "      <td>No</td>\n",
              "      <td>No</td>\n",
              "      <td>No</td>\n",
              "      <td>No</td>\n",
              "      <td>Yes</td>\n",
              "      <td>Yes</td>\n",
              "      <td>Yes, &gt;6 months ago</td>\n",
              "    </tr>\n",
              "    <tr>\n",
              "      <th>3</th>\n",
              "      <td>314</td>\n",
              "      <td>2020-10-09 12:27:44</td>\n",
              "      <td>0</td>\n",
              "      <td>13</td>\n",
              "      <td>NaN</td>\n",
              "      <td>123.02</td>\n",
              "      <td>106</td>\n",
              "      <td>NaN</td>\n",
              "      <td>NaN</td>\n",
              "      <td>NaN</td>\n",
              "      <td>NaN</td>\n",
              "      <td>NaN</td>\n",
              "      <td>NaN</td>\n",
              "      <td>31C9</td>\n",
              "      <td>TC1047</td>\n",
              "      <td>Part 2A</td>\n",
              "      <td>22</td>\n",
              "      <td>Female</td>\n",
              "      <td>luteal</td>\n",
              "      <td>175.0</td>\n",
              "      <td>63.0</td>\n",
              "      <td>Continuous</td>\n",
              "      <td>No</td>\n",
              "      <td>No</td>\n",
              "      <td>No</td>\n",
              "      <td>No</td>\n",
              "      <td>No</td>\n",
              "      <td>No</td>\n",
              "      <td>No</td>\n",
              "      <td>No</td>\n",
              "      <td>Yes</td>\n",
              "      <td>Yes</td>\n",
              "      <td>Yes, &gt;6 months ago</td>\n",
              "    </tr>\n",
              "    <tr>\n",
              "      <th>4</th>\n",
              "      <td>314</td>\n",
              "      <td>2020-10-09 12:27:45</td>\n",
              "      <td>0</td>\n",
              "      <td>15</td>\n",
              "      <td>NaN</td>\n",
              "      <td>123.02</td>\n",
              "      <td>102</td>\n",
              "      <td>22.14</td>\n",
              "      <td>27.83</td>\n",
              "      <td>57.3</td>\n",
              "      <td>29.69</td>\n",
              "      <td>NaN</td>\n",
              "      <td>NaN</td>\n",
              "      <td>31C9</td>\n",
              "      <td>TC1047</td>\n",
              "      <td>Part 2A</td>\n",
              "      <td>22</td>\n",
              "      <td>Female</td>\n",
              "      <td>luteal</td>\n",
              "      <td>175.0</td>\n",
              "      <td>63.0</td>\n",
              "      <td>Continuous</td>\n",
              "      <td>No</td>\n",
              "      <td>No</td>\n",
              "      <td>No</td>\n",
              "      <td>No</td>\n",
              "      <td>No</td>\n",
              "      <td>No</td>\n",
              "      <td>No</td>\n",
              "      <td>No</td>\n",
              "      <td>Yes</td>\n",
              "      <td>Yes</td>\n",
              "      <td>Yes, &gt;6 months ago</td>\n",
              "    </tr>\n",
              "  </tbody>\n",
              "</table>\n",
              "</div>"
            ],
            "text/plain": [
              "   userId             DateTime  ...  medicalQuestion10   medicalQuestion11\n",
              "0     314  2020-10-09 12:27:41  ...                Yes  Yes, >6 months ago\n",
              "1     314  2020-10-09 12:27:42  ...                Yes  Yes, >6 months ago\n",
              "2     314  2020-10-09 12:27:43  ...                Yes  Yes, >6 months ago\n",
              "3     314  2020-10-09 12:27:44  ...                Yes  Yes, >6 months ago\n",
              "4     314  2020-10-09 12:27:45  ...                Yes  Yes, >6 months ago\n",
              "\n",
              "[5 rows x 33 columns]"
            ]
          },
          "metadata": {
            "tags": []
          },
          "execution_count": 6
        }
      ]
    },
    {
      "cell_type": "markdown",
      "metadata": {
        "id": "aZOuIb7uH1lR"
      },
      "source": [
        "Created a feature called \"Activity Flag\", 1 if there is an activity else 0."
      ]
    },
    {
      "cell_type": "code",
      "metadata": {
        "id": "CLQ6Yvc622cm"
      },
      "source": [
        "df['activity_flag']=np.where(df.Flag.isnull(), 0,1)"
      ],
      "execution_count": 7,
      "outputs": []
    },
    {
      "cell_type": "code",
      "metadata": {
        "colab": {
          "base_uri": "https://localhost:8080/"
        },
        "id": "3CZqPLa1oITR",
        "outputId": "83eb7023-ebda-4f8f-cca7-10fd3630aaa3"
      },
      "source": [
        "df.activity_flag.value_counts()"
      ],
      "execution_count": 8,
      "outputs": [
        {
          "output_type": "execute_result",
          "data": {
            "text/plain": [
              "0    2821925\n",
              "1        250\n",
              "Name: activity_flag, dtype: int64"
            ]
          },
          "metadata": {
            "tags": []
          },
          "execution_count": 8
        }
      ]
    },
    {
      "cell_type": "code",
      "metadata": {
        "colab": {
          "base_uri": "https://localhost:8080/"
        },
        "id": "staCCFUdfXEZ",
        "outputId": "55fe28ef-7642-4860-d50a-3527f25c62ec"
      },
      "source": [
        "df.MenstrualPhase.value_counts()"
      ],
      "execution_count": 9,
      "outputs": [
        {
          "output_type": "execute_result",
          "data": {
            "text/plain": [
              "luteal                                                                                                                 651606\n",
              "follicular                                                                                                             367992\n",
              "irregular                                                                                                              128484\n",
              "Mid-luteal? (Day 19 of 40)\\r\\nDysmenorrhea and Premenstural Symdrone (PMS). \\r\\nParticipant has irregular periods.      73277\n",
              "Name: MenstrualPhase, dtype: int64"
            ]
          },
          "metadata": {
            "tags": []
          },
          "execution_count": 9
        }
      ]
    },
    {
      "cell_type": "markdown",
      "metadata": {
        "id": "H55HIGg2KD5r"
      },
      "source": [
        "Created a feature called \"Menstrual Flag\", type of menstrual if there is a menstrual phase else Male."
      ]
    },
    {
      "cell_type": "code",
      "metadata": {
        "id": "RNgglxh7fXIN"
      },
      "source": [
        "df['menstrual_flag']=np.where(df.MenstrualPhase.isnull(), 'male',df['MenstrualPhase'])"
      ],
      "execution_count": 10,
      "outputs": []
    },
    {
      "cell_type": "code",
      "metadata": {
        "colab": {
          "base_uri": "https://localhost:8080/"
        },
        "id": "-TNb2QNVfXyd",
        "outputId": "7140ad6c-7c4d-4aa4-c37f-2a12dd3727ac"
      },
      "source": [
        "df.menstrual_flag.value_counts()"
      ],
      "execution_count": 11,
      "outputs": [
        {
          "output_type": "execute_result",
          "data": {
            "text/plain": [
              "male                                                                                                                   1600816\n",
              "luteal                                                                                                                  651606\n",
              "follicular                                                                                                              367992\n",
              "irregular                                                                                                               128484\n",
              "Mid-luteal? (Day 19 of 40)\\r\\nDysmenorrhea and Premenstural Symdrone (PMS). \\r\\nParticipant has irregular periods.       73277\n",
              "Name: menstrual_flag, dtype: int64"
            ]
          },
          "metadata": {
            "tags": []
          },
          "execution_count": 11
        }
      ]
    },
    {
      "cell_type": "code",
      "metadata": {
        "colab": {
          "base_uri": "https://localhost:8080/"
        },
        "id": "VZOBiSwCrS22",
        "outputId": "74eab193-9a20-4f5c-809b-1a5862aa25e6"
      },
      "source": [
        "df.columns"
      ],
      "execution_count": null,
      "outputs": [
        {
          "output_type": "execute_result",
          "data": {
            "text/plain": [
              "Index(['userId', 'DateTime', 'signalQ1', 'signalQ2', 'heartRate',\n",
              "       'heartRateAvg', 'stepRate', 'skinRH109', 'skinTemp109', 'ambientRH110',\n",
              "       'ambientTemp110', 'Flag', 'Tc', 'PatchId', 'SubjectId', 'Trial', 'Age',\n",
              "       'Sex', 'MenstrualPhase', 'Height', 'Weight', 'TrialType',\n",
              "       'medicalQuestion1', 'medicalQuestion2', 'medicalQuestion3',\n",
              "       'medicalQuestion4', 'medicalQuestion5', 'medicalQuestion6',\n",
              "       'medicalQuestion7', 'medicalQuestion8', 'medicalQuestion9',\n",
              "       'medicalQuestion10', 'medicalQuestion11', 'activity_flag',\n",
              "       'menstrual_flag'],\n",
              "      dtype='object')"
            ]
          },
          "metadata": {
            "tags": []
          },
          "execution_count": 12
        }
      ]
    },
    {
      "cell_type": "markdown",
      "metadata": {
        "id": "oeGM2RxXKfK-"
      },
      "source": [
        "Dropped Signal Q2 which is another version of Signal q1, and keeping Signal q1.\r\n",
        "\r\n",
        "Dropping Heart-rate and keeping avg heart rate\r\n",
        "\r\n",
        "Dropping Trail type and medical questions"
      ]
    },
    {
      "cell_type": "code",
      "metadata": {
        "id": "nxzwsvQJlo0g"
      },
      "source": [
        "df=df.drop(columns=[ 'signalQ2', 'heartRate','Flag','TrialType','MenstrualPhase',\r\n",
        "       'medicalQuestion1', 'medicalQuestion2', 'medicalQuestion3',\r\n",
        "       'medicalQuestion4', 'medicalQuestion5', 'medicalQuestion6',\r\n",
        "       'medicalQuestion7', 'medicalQuestion8', 'medicalQuestion9',\r\n",
        "       'medicalQuestion10', 'medicalQuestion11'],axis=1)"
      ],
      "execution_count": 12,
      "outputs": []
    },
    {
      "cell_type": "markdown",
      "metadata": {
        "id": "ujlJO69xLGoN"
      },
      "source": [
        "#Missing Values\r\n",
        "1. Core temperature has the most number of missing values (2813242), as it has been collected for every 5 mins (once in every 300 instances).\r\n",
        "\r\n",
        "2. SkinRH109, Skintemp 109, Ambient RH 110, Ambient temp 110 has missing 2202112 times, since they have been collected once in every 5 seconds.\r\n",
        "\r\n",
        "3. Heartrate Average - 26314 missing values\r\n"
      ]
    },
    {
      "cell_type": "code",
      "metadata": {
        "colab": {
          "base_uri": "https://localhost:8080/"
        },
        "id": "HFEMawzd3f2Q",
        "outputId": "18caebfd-1777-4a58-b126-12d6c3627aa3"
      },
      "source": [
        "#Missing Values\r\n",
        "df.isna().sum()"
      ],
      "execution_count": 13,
      "outputs": [
        {
          "output_type": "execute_result",
          "data": {
            "text/plain": [
              "userId                  0\n",
              "DateTime                0\n",
              "signalQ1                0\n",
              "heartRateAvg        26314\n",
              "stepRate                0\n",
              "skinRH109         2202112\n",
              "skinTemp109       2202112\n",
              "ambientRH110      2202112\n",
              "ambientTemp110    2202112\n",
              "Tc                2813242\n",
              "PatchId                 0\n",
              "SubjectId               0\n",
              "Trial                   0\n",
              "Age                     0\n",
              "Sex                     0\n",
              "Height                  0\n",
              "Weight                  0\n",
              "activity_flag           0\n",
              "menstrual_flag          0\n",
              "dtype: int64"
            ]
          },
          "metadata": {
            "tags": []
          },
          "execution_count": 13
        }
      ]
    },
    {
      "cell_type": "markdown",
      "metadata": {
        "id": "pCKFd0ioPcqf"
      },
      "source": [
        "Creating a list of distinct user id and trail"
      ]
    },
    {
      "cell_type": "code",
      "metadata": {
        "id": "WGajq7C-Fg_H"
      },
      "source": [
        "trail_id=df.Trial.unique()\r\n",
        "user_id=df.userId.unique()"
      ],
      "execution_count": 14,
      "outputs": []
    },
    {
      "cell_type": "markdown",
      "metadata": {
        "id": "bW9_OJ4oPwgD"
      },
      "source": [
        "# Imputing Missing values:\r\n",
        "The most important and difficult part is handling missing values.\r\n",
        "\r\n",
        "Pandas interpolate() function is basically used to fill NA values in the dataframe or series. But, this is a very powerful function to fill the missing values. It uses various interpolation technique to fill the missing values rather than hard-coding the value.\r\n",
        "\r\n",
        "The use of using interpolate rather than filling missing values by mean or median.\r\n",
        "For example: we have the data like this [1,NA,4,NA,100], fill NA with mean.\r\n",
        "We will get [1,35,4,35,100]. In series we hardly get 35 in between 1 and 4.\r\n",
        "\r\n",
        "If we use interpolate method, we will get [ 1, 2.5,4,54,100]. This is fairly resonable.\r\n",
        "\r\n",
        "As we are having series data, I have used interpolate method to fill NA values.\r\n",
        "\r\n",
        "For example:\r\n",
        "In skinRH109, there are 4 values missing between 2 non null values. I imputed the missing values using interpolate method to fill those missing values.\r\n",
        "Similarly I have done the same for Hearrate Average, Skintemp 109, Ambient RH 110, Ambient temp 110 and Tc.\r\n",
        "\r\n",
        "\"you may need to remove the first hour of data as it could take time for the pill to travel down into the GI tract to accurately measure core temp\"\r\n",
        "\r\n",
        "We have record for each second, so for one hour we have 3600 data points.\r\n",
        "I have removed first 3600 data points for each user and for each trail."
      ]
    },
    {
      "cell_type": "code",
      "metadata": {
        "id": "9Ly0reyKGoMu"
      },
      "source": [
        "final=pd.DataFrame()\r\n",
        "for user in list(user_id):\r\n",
        "  x=df[df['userId']==user]\r\n",
        "  for trail in list(trail_id):\r\n",
        "    y=x[x['Trial']==trail]\r\n",
        "    y['heartRateAvg']=y['heartRateAvg'].interpolate()\r\n",
        "    y['stepRate']=y['stepRate'].interpolate()\r\n",
        "    y['skinRH109']=y['skinRH109'].interpolate()\r\n",
        "    y['skinTemp109']=y['skinTemp109'].interpolate()\r\n",
        "    y['ambientRH110']=y['ambientRH110'].interpolate()\r\n",
        "    y['ambientTemp110']=y['ambientTemp110'].interpolate()\r\n",
        "    y['Tc']=y['Tc'].interpolate()\r\n",
        "    z = y.iloc[3601:]\r\n",
        "    #print(user, trail)\r\n",
        "\r\n",
        "    final=pd.concat([final,z])"
      ],
      "execution_count": 15,
      "outputs": []
    },
    {
      "cell_type": "code",
      "metadata": {
        "colab": {
          "base_uri": "https://localhost:8080/",
          "height": 313
        },
        "id": "PuqMXv4sVlv5",
        "outputId": "98b9f0cf-0b6f-4757-d5b4-1a911e286782"
      },
      "source": [
        "final.head(5)"
      ],
      "execution_count": null,
      "outputs": [
        {
          "output_type": "execute_result",
          "data": {
            "text/html": [
              "<div>\n",
              "<style scoped>\n",
              "    .dataframe tbody tr th:only-of-type {\n",
              "        vertical-align: middle;\n",
              "    }\n",
              "\n",
              "    .dataframe tbody tr th {\n",
              "        vertical-align: top;\n",
              "    }\n",
              "\n",
              "    .dataframe thead th {\n",
              "        text-align: right;\n",
              "    }\n",
              "</style>\n",
              "<table border=\"1\" class=\"dataframe\">\n",
              "  <thead>\n",
              "    <tr style=\"text-align: right;\">\n",
              "      <th></th>\n",
              "      <th>userId</th>\n",
              "      <th>DateTime</th>\n",
              "      <th>signalQ1</th>\n",
              "      <th>heartRateAvg</th>\n",
              "      <th>stepRate</th>\n",
              "      <th>skinRH109</th>\n",
              "      <th>skinTemp109</th>\n",
              "      <th>ambientRH110</th>\n",
              "      <th>ambientTemp110</th>\n",
              "      <th>Tc</th>\n",
              "      <th>PatchId</th>\n",
              "      <th>SubjectId</th>\n",
              "      <th>Trial</th>\n",
              "      <th>Age</th>\n",
              "      <th>Sex</th>\n",
              "      <th>Height</th>\n",
              "      <th>Weight</th>\n",
              "      <th>activity_flag</th>\n",
              "      <th>menstrual_flag</th>\n",
              "    </tr>\n",
              "  </thead>\n",
              "  <tbody>\n",
              "    <tr>\n",
              "      <th>3601</th>\n",
              "      <td>314</td>\n",
              "      <td>2020-10-09 13:27:42</td>\n",
              "      <td>0</td>\n",
              "      <td>81.14</td>\n",
              "      <td>0</td>\n",
              "      <td>23.2700</td>\n",
              "      <td>31.954</td>\n",
              "      <td>57.466</td>\n",
              "      <td>33.260</td>\n",
              "      <td>36.819834</td>\n",
              "      <td>31C9</td>\n",
              "      <td>TC1047</td>\n",
              "      <td>Part 2A</td>\n",
              "      <td>22</td>\n",
              "      <td>Female</td>\n",
              "      <td>175.0</td>\n",
              "      <td>63.0</td>\n",
              "      <td>0</td>\n",
              "      <td>luteal</td>\n",
              "    </tr>\n",
              "    <tr>\n",
              "      <th>3602</th>\n",
              "      <td>314</td>\n",
              "      <td>2020-10-09 13:27:43</td>\n",
              "      <td>0</td>\n",
              "      <td>81.14</td>\n",
              "      <td>0</td>\n",
              "      <td>23.2600</td>\n",
              "      <td>31.952</td>\n",
              "      <td>57.468</td>\n",
              "      <td>33.260</td>\n",
              "      <td>36.819801</td>\n",
              "      <td>31C9</td>\n",
              "      <td>TC1047</td>\n",
              "      <td>Part 2A</td>\n",
              "      <td>22</td>\n",
              "      <td>Female</td>\n",
              "      <td>175.0</td>\n",
              "      <td>63.0</td>\n",
              "      <td>0</td>\n",
              "      <td>luteal</td>\n",
              "    </tr>\n",
              "    <tr>\n",
              "      <th>3603</th>\n",
              "      <td>314</td>\n",
              "      <td>2020-10-09 13:27:44</td>\n",
              "      <td>0</td>\n",
              "      <td>81.15</td>\n",
              "      <td>0</td>\n",
              "      <td>23.2500</td>\n",
              "      <td>31.950</td>\n",
              "      <td>57.470</td>\n",
              "      <td>33.260</td>\n",
              "      <td>36.819767</td>\n",
              "      <td>31C9</td>\n",
              "      <td>TC1047</td>\n",
              "      <td>Part 2A</td>\n",
              "      <td>22</td>\n",
              "      <td>Female</td>\n",
              "      <td>175.0</td>\n",
              "      <td>63.0</td>\n",
              "      <td>0</td>\n",
              "      <td>luteal</td>\n",
              "    </tr>\n",
              "    <tr>\n",
              "      <th>3604</th>\n",
              "      <td>314</td>\n",
              "      <td>2020-10-09 13:27:45</td>\n",
              "      <td>0</td>\n",
              "      <td>81.15</td>\n",
              "      <td>0</td>\n",
              "      <td>23.3025</td>\n",
              "      <td>31.950</td>\n",
              "      <td>57.460</td>\n",
              "      <td>33.265</td>\n",
              "      <td>36.819734</td>\n",
              "      <td>31C9</td>\n",
              "      <td>TC1047</td>\n",
              "      <td>Part 2A</td>\n",
              "      <td>22</td>\n",
              "      <td>Female</td>\n",
              "      <td>175.0</td>\n",
              "      <td>63.0</td>\n",
              "      <td>0</td>\n",
              "      <td>luteal</td>\n",
              "    </tr>\n",
              "    <tr>\n",
              "      <th>3605</th>\n",
              "      <td>314</td>\n",
              "      <td>2020-10-09 13:27:46</td>\n",
              "      <td>0</td>\n",
              "      <td>81.15</td>\n",
              "      <td>0</td>\n",
              "      <td>23.3550</td>\n",
              "      <td>31.950</td>\n",
              "      <td>57.450</td>\n",
              "      <td>33.270</td>\n",
              "      <td>36.819701</td>\n",
              "      <td>31C9</td>\n",
              "      <td>TC1047</td>\n",
              "      <td>Part 2A</td>\n",
              "      <td>22</td>\n",
              "      <td>Female</td>\n",
              "      <td>175.0</td>\n",
              "      <td>63.0</td>\n",
              "      <td>0</td>\n",
              "      <td>luteal</td>\n",
              "    </tr>\n",
              "  </tbody>\n",
              "</table>\n",
              "</div>"
            ],
            "text/plain": [
              "      userId             DateTime  ...  activity_flag  menstrual_flag\n",
              "3601     314  2020-10-09 13:27:42  ...              0          luteal\n",
              "3602     314  2020-10-09 13:27:43  ...              0          luteal\n",
              "3603     314  2020-10-09 13:27:44  ...              0          luteal\n",
              "3604     314  2020-10-09 13:27:45  ...              0          luteal\n",
              "3605     314  2020-10-09 13:27:46  ...              0          luteal\n",
              "\n",
              "[5 rows x 19 columns]"
            ]
          },
          "metadata": {
            "tags": []
          },
          "execution_count": 17
        }
      ]
    },
    {
      "cell_type": "markdown",
      "metadata": {
        "id": "qQJOW_QdTo1G"
      },
      "source": [
        "Converting Datatime data type from object to Data time."
      ]
    },
    {
      "cell_type": "code",
      "metadata": {
        "id": "qSq_igygeJ3e"
      },
      "source": [
        "final['DateTime']=pd.to_datetime(final['DateTime'])"
      ],
      "execution_count": 16,
      "outputs": []
    },
    {
      "cell_type": "markdown",
      "metadata": {
        "id": "ZpAZYLHsT0JK"
      },
      "source": [
        "# Removing Temperature less than 36 *c"
      ]
    },
    {
      "cell_type": "code",
      "metadata": {
        "id": "LKJQF1CdrjmU"
      },
      "source": [
        "final=final[final['Tc']>=36]"
      ],
      "execution_count": 17,
      "outputs": []
    },
    {
      "cell_type": "code",
      "metadata": {
        "colab": {
          "base_uri": "https://localhost:8080/"
        },
        "id": "mLv93GcZew7N",
        "outputId": "ee93988b-91f3-42fa-ea29-b96562915485"
      },
      "source": [
        "final.info()"
      ],
      "execution_count": null,
      "outputs": [
        {
          "output_type": "stream",
          "text": [
            "<class 'pandas.core.frame.DataFrame'>\n",
            "Int64Index: 2717746 entries, 3601 to 2822174\n",
            "Data columns (total 19 columns):\n",
            " #   Column          Dtype         \n",
            "---  ------          -----         \n",
            " 0   userId          int64         \n",
            " 1   DateTime        datetime64[ns]\n",
            " 2   signalQ1        int64         \n",
            " 3   heartRateAvg    float64       \n",
            " 4   stepRate        int64         \n",
            " 5   skinRH109       float64       \n",
            " 6   skinTemp109     float64       \n",
            " 7   ambientRH110    float64       \n",
            " 8   ambientTemp110  float64       \n",
            " 9   Tc              float64       \n",
            " 10  PatchId         object        \n",
            " 11  SubjectId       object        \n",
            " 12  Trial           object        \n",
            " 13  Age             int64         \n",
            " 14  Sex             object        \n",
            " 15  Height          float64       \n",
            " 16  Weight          float64       \n",
            " 17  activity_flag   int64         \n",
            " 18  menstrual_flag  object        \n",
            "dtypes: datetime64[ns](1), float64(8), int64(5), object(5)\n",
            "memory usage: 414.7+ MB\n"
          ],
          "name": "stdout"
        }
      ]
    },
    {
      "cell_type": "code",
      "metadata": {
        "colab": {
          "base_uri": "https://localhost:8080/"
        },
        "id": "h9d__rlzhGQv",
        "outputId": "382a5b70-67c7-4e14-f5fd-7b9b129a6b30"
      },
      "source": [
        "print (\"The data file has \" + str(final.shape[1]) + \" columns and \" + str(final.shape[0]) + \" rows\")"
      ],
      "execution_count": null,
      "outputs": [
        {
          "output_type": "stream",
          "text": [
            "The data file has 19 columns and 2717746 rows\n"
          ],
          "name": "stdout"
        }
      ]
    },
    {
      "cell_type": "markdown",
      "metadata": {
        "id": "cvusn1qrUftz"
      },
      "source": [
        "Analysing how Male and Female are differing for various features."
      ]
    },
    {
      "cell_type": "code",
      "metadata": {
        "colab": {
          "base_uri": "https://localhost:8080/",
          "height": 143
        },
        "id": "1Isjqgz8w1lN",
        "outputId": "8aaccd50-0e32-431f-c953-9222746843f3"
      },
      "source": [
        "final.groupby('Sex').mean()"
      ],
      "execution_count": null,
      "outputs": [
        {
          "output_type": "execute_result",
          "data": {
            "text/html": [
              "<div>\n",
              "<style scoped>\n",
              "    .dataframe tbody tr th:only-of-type {\n",
              "        vertical-align: middle;\n",
              "    }\n",
              "\n",
              "    .dataframe tbody tr th {\n",
              "        vertical-align: top;\n",
              "    }\n",
              "\n",
              "    .dataframe thead th {\n",
              "        text-align: right;\n",
              "    }\n",
              "</style>\n",
              "<table border=\"1\" class=\"dataframe\">\n",
              "  <thead>\n",
              "    <tr style=\"text-align: right;\">\n",
              "      <th></th>\n",
              "      <th>userId</th>\n",
              "      <th>signalQ1</th>\n",
              "      <th>heartRateAvg</th>\n",
              "      <th>stepRate</th>\n",
              "      <th>skinRH109</th>\n",
              "      <th>skinTemp109</th>\n",
              "      <th>ambientRH110</th>\n",
              "      <th>ambientTemp110</th>\n",
              "      <th>Tc</th>\n",
              "      <th>Age</th>\n",
              "      <th>Height</th>\n",
              "      <th>Weight</th>\n",
              "      <th>activity_flag</th>\n",
              "    </tr>\n",
              "    <tr>\n",
              "      <th>Sex</th>\n",
              "      <th></th>\n",
              "      <th></th>\n",
              "      <th></th>\n",
              "      <th></th>\n",
              "      <th></th>\n",
              "      <th></th>\n",
              "      <th></th>\n",
              "      <th></th>\n",
              "      <th></th>\n",
              "      <th></th>\n",
              "      <th></th>\n",
              "      <th></th>\n",
              "      <th></th>\n",
              "    </tr>\n",
              "  </thead>\n",
              "  <tbody>\n",
              "    <tr>\n",
              "      <th>Female</th>\n",
              "      <td>244.246738</td>\n",
              "      <td>0.017979</td>\n",
              "      <td>74.982910</td>\n",
              "      <td>18.572926</td>\n",
              "      <td>38.696670</td>\n",
              "      <td>32.298287</td>\n",
              "      <td>64.839743</td>\n",
              "      <td>33.185468</td>\n",
              "      <td>37.065928</td>\n",
              "      <td>23.579392</td>\n",
              "      <td>170.068776</td>\n",
              "      <td>70.927199</td>\n",
              "      <td>0.000100</td>\n",
              "    </tr>\n",
              "    <tr>\n",
              "      <th>Male</th>\n",
              "      <td>244.945783</td>\n",
              "      <td>0.007391</td>\n",
              "      <td>65.506944</td>\n",
              "      <td>18.735442</td>\n",
              "      <td>35.884855</td>\n",
              "      <td>31.813074</td>\n",
              "      <td>64.299933</td>\n",
              "      <td>32.827304</td>\n",
              "      <td>36.850858</td>\n",
              "      <td>31.870997</td>\n",
              "      <td>175.392346</td>\n",
              "      <td>81.048966</td>\n",
              "      <td>0.000075</td>\n",
              "    </tr>\n",
              "  </tbody>\n",
              "</table>\n",
              "</div>"
            ],
            "text/plain": [
              "            userId  signalQ1  ...     Weight  activity_flag\n",
              "Sex                           ...                          \n",
              "Female  244.246738  0.017979  ...  70.927199       0.000100\n",
              "Male    244.945783  0.007391  ...  81.048966       0.000075\n",
              "\n",
              "[2 rows x 13 columns]"
            ]
          },
          "metadata": {
            "tags": []
          },
          "execution_count": 22
        }
      ]
    },
    {
      "cell_type": "markdown",
      "metadata": {
        "id": "AuEQGxLJUoQ_"
      },
      "source": [
        "Some Insights:\r\n",
        "\r\n",
        "Average heartrate for a female is 74.98 and 65.50 for male.\r\n",
        "\r\n",
        "ShinRh 109 for female is 38.69 and 35.88 for male.\r\n",
        "\r\n",
        "Average TC for female is 37.06 and 36.85 for male."
      ]
    },
    {
      "cell_type": "code",
      "metadata": {
        "id": "coh0Yht4w134",
        "colab": {
          "base_uri": "https://localhost:8080/",
          "height": 457
        },
        "outputId": "8fc6c113-43f7-4c67-e9ba-812b6d799bd6"
      },
      "source": [
        "final.describe().T"
      ],
      "execution_count": null,
      "outputs": [
        {
          "output_type": "execute_result",
          "data": {
            "text/html": [
              "<div>\n",
              "<style scoped>\n",
              "    .dataframe tbody tr th:only-of-type {\n",
              "        vertical-align: middle;\n",
              "    }\n",
              "\n",
              "    .dataframe tbody tr th {\n",
              "        vertical-align: top;\n",
              "    }\n",
              "\n",
              "    .dataframe thead th {\n",
              "        text-align: right;\n",
              "    }\n",
              "</style>\n",
              "<table border=\"1\" class=\"dataframe\">\n",
              "  <thead>\n",
              "    <tr style=\"text-align: right;\">\n",
              "      <th></th>\n",
              "      <th>count</th>\n",
              "      <th>mean</th>\n",
              "      <th>std</th>\n",
              "      <th>min</th>\n",
              "      <th>25%</th>\n",
              "      <th>50%</th>\n",
              "      <th>75%</th>\n",
              "      <th>max</th>\n",
              "    </tr>\n",
              "  </thead>\n",
              "  <tbody>\n",
              "    <tr>\n",
              "      <th>userId</th>\n",
              "      <td>2717746.0</td>\n",
              "      <td>244.598004</td>\n",
              "      <td>36.233146</td>\n",
              "      <td>173.00</td>\n",
              "      <td>222.000</td>\n",
              "      <td>235.000</td>\n",
              "      <td>276.000000</td>\n",
              "      <td>314.00</td>\n",
              "    </tr>\n",
              "    <tr>\n",
              "      <th>signalQ1</th>\n",
              "      <td>2717746.0</td>\n",
              "      <td>0.012659</td>\n",
              "      <td>0.111796</td>\n",
              "      <td>0.00</td>\n",
              "      <td>0.000</td>\n",
              "      <td>0.000</td>\n",
              "      <td>0.000000</td>\n",
              "      <td>1.00</td>\n",
              "    </tr>\n",
              "    <tr>\n",
              "      <th>heartRateAvg</th>\n",
              "      <td>2717746.0</td>\n",
              "      <td>70.221284</td>\n",
              "      <td>20.196225</td>\n",
              "      <td>36.11</td>\n",
              "      <td>55.690</td>\n",
              "      <td>67.270</td>\n",
              "      <td>81.490000</td>\n",
              "      <td>204.75</td>\n",
              "    </tr>\n",
              "    <tr>\n",
              "      <th>stepRate</th>\n",
              "      <td>2717746.0</td>\n",
              "      <td>18.654590</td>\n",
              "      <td>40.190945</td>\n",
              "      <td>0.00</td>\n",
              "      <td>0.000</td>\n",
              "      <td>0.000</td>\n",
              "      <td>0.000000</td>\n",
              "      <td>270.00</td>\n",
              "    </tr>\n",
              "    <tr>\n",
              "      <th>skinRH109</th>\n",
              "      <td>2717746.0</td>\n",
              "      <td>37.283747</td>\n",
              "      <td>8.449349</td>\n",
              "      <td>16.48</td>\n",
              "      <td>31.340</td>\n",
              "      <td>36.350</td>\n",
              "      <td>41.420000</td>\n",
              "      <td>85.36</td>\n",
              "    </tr>\n",
              "    <tr>\n",
              "      <th>skinTemp109</th>\n",
              "      <td>2717746.0</td>\n",
              "      <td>32.054469</td>\n",
              "      <td>2.424446</td>\n",
              "      <td>14.00</td>\n",
              "      <td>30.750</td>\n",
              "      <td>32.345</td>\n",
              "      <td>33.722500</td>\n",
              "      <td>38.94</td>\n",
              "    </tr>\n",
              "    <tr>\n",
              "      <th>ambientRH110</th>\n",
              "      <td>2717746.0</td>\n",
              "      <td>64.568491</td>\n",
              "      <td>10.773595</td>\n",
              "      <td>36.32</td>\n",
              "      <td>57.452</td>\n",
              "      <td>61.535</td>\n",
              "      <td>68.960000</td>\n",
              "      <td>100.00</td>\n",
              "    </tr>\n",
              "    <tr>\n",
              "      <th>ambientTemp110</th>\n",
              "      <td>2717746.0</td>\n",
              "      <td>33.005492</td>\n",
              "      <td>2.086469</td>\n",
              "      <td>14.81</td>\n",
              "      <td>32.132</td>\n",
              "      <td>33.330</td>\n",
              "      <td>34.330000</td>\n",
              "      <td>37.87</td>\n",
              "    </tr>\n",
              "    <tr>\n",
              "      <th>Tc</th>\n",
              "      <td>2717746.0</td>\n",
              "      <td>36.957856</td>\n",
              "      <td>0.453022</td>\n",
              "      <td>36.00</td>\n",
              "      <td>36.620</td>\n",
              "      <td>36.970</td>\n",
              "      <td>37.263067</td>\n",
              "      <td>41.20</td>\n",
              "    </tr>\n",
              "    <tr>\n",
              "      <th>Age</th>\n",
              "      <td>2717746.0</td>\n",
              "      <td>27.745883</td>\n",
              "      <td>7.041830</td>\n",
              "      <td>19.00</td>\n",
              "      <td>23.000</td>\n",
              "      <td>26.000</td>\n",
              "      <td>28.000000</td>\n",
              "      <td>45.00</td>\n",
              "    </tr>\n",
              "    <tr>\n",
              "      <th>Height</th>\n",
              "      <td>2717746.0</td>\n",
              "      <td>172.743844</td>\n",
              "      <td>9.982050</td>\n",
              "      <td>151.00</td>\n",
              "      <td>166.000</td>\n",
              "      <td>175.000</td>\n",
              "      <td>176.000000</td>\n",
              "      <td>192.00</td>\n",
              "    </tr>\n",
              "    <tr>\n",
              "      <th>Weight</th>\n",
              "      <td>2717746.0</td>\n",
              "      <td>76.013338</td>\n",
              "      <td>16.264133</td>\n",
              "      <td>55.00</td>\n",
              "      <td>63.000</td>\n",
              "      <td>72.000</td>\n",
              "      <td>90.000000</td>\n",
              "      <td>117.00</td>\n",
              "    </tr>\n",
              "    <tr>\n",
              "      <th>activity_flag</th>\n",
              "      <td>2717746.0</td>\n",
              "      <td>0.000087</td>\n",
              "      <td>0.009338</td>\n",
              "      <td>0.00</td>\n",
              "      <td>0.000</td>\n",
              "      <td>0.000</td>\n",
              "      <td>0.000000</td>\n",
              "      <td>1.00</td>\n",
              "    </tr>\n",
              "  </tbody>\n",
              "</table>\n",
              "</div>"
            ],
            "text/plain": [
              "                    count        mean        std  ...      50%         75%     max\n",
              "userId          2717746.0  244.598004  36.233146  ...  235.000  276.000000  314.00\n",
              "signalQ1        2717746.0    0.012659   0.111796  ...    0.000    0.000000    1.00\n",
              "heartRateAvg    2717746.0   70.221284  20.196225  ...   67.270   81.490000  204.75\n",
              "stepRate        2717746.0   18.654590  40.190945  ...    0.000    0.000000  270.00\n",
              "skinRH109       2717746.0   37.283747   8.449349  ...   36.350   41.420000   85.36\n",
              "skinTemp109     2717746.0   32.054469   2.424446  ...   32.345   33.722500   38.94\n",
              "ambientRH110    2717746.0   64.568491  10.773595  ...   61.535   68.960000  100.00\n",
              "ambientTemp110  2717746.0   33.005492   2.086469  ...   33.330   34.330000   37.87\n",
              "Tc              2717746.0   36.957856   0.453022  ...   36.970   37.263067   41.20\n",
              "Age             2717746.0   27.745883   7.041830  ...   26.000   28.000000   45.00\n",
              "Height          2717746.0  172.743844   9.982050  ...  175.000  176.000000  192.00\n",
              "Weight          2717746.0   76.013338  16.264133  ...   72.000   90.000000  117.00\n",
              "activity_flag   2717746.0    0.000087   0.009338  ...    0.000    0.000000    1.00\n",
              "\n",
              "[13 rows x 8 columns]"
            ]
          },
          "metadata": {
            "tags": []
          },
          "execution_count": 23
        }
      ]
    },
    {
      "cell_type": "markdown",
      "metadata": {
        "id": "TUBW-e4TVdej"
      },
      "source": [
        "Age ranges between 19 and 45.\r\n",
        "\r\n",
        "Height ranges 151cm to 192\r\n",
        "\r\n",
        "weight ranges between 55kgs and 117 kgs"
      ]
    },
    {
      "cell_type": "markdown",
      "metadata": {
        "id": "buQ0O6QqWB9L"
      },
      "source": [
        "# Core Temperature Distribustion:\r\n",
        "As seen below, the core temperature is not Normally distributed."
      ]
    },
    {
      "cell_type": "code",
      "metadata": {
        "colab": {
          "base_uri": "https://localhost:8080/",
          "height": 611
        },
        "id": "FJHUe5Hcw1hh",
        "outputId": "1ed893d0-d853-4048-c906-b706a3e4bc36"
      },
      "source": [
        "final.Tc.hist(bins = 20 , figsize= (12,10))"
      ],
      "execution_count": null,
      "outputs": [
        {
          "output_type": "execute_result",
          "data": {
            "text/plain": [
              "<matplotlib.axes._subplots.AxesSubplot at 0x7f0b0159fda0>"
            ]
          },
          "metadata": {
            "tags": []
          },
          "execution_count": 24
        },
        {
          "output_type": "display_data",
          "data": {
            "image/png": "[encoded data removed]",
            "text/plain": [
              "<Figure size 864x720 with 1 Axes>"
            ]
          },
          "metadata": {
            "tags": [],
            "needs_background": "light"
          }
        }
      ]
    },
    {
      "cell_type": "markdown",
      "metadata": {
        "id": "4dx9iUzLWRTI"
      },
      "source": [
        "# Finding Outliers\r\n",
        "\r\n",
        "Box Plot to check for outliers.\r\n",
        "\r\n",
        "There are lot of values beyond Q4."
      ]
    },
    {
      "cell_type": "code",
      "metadata": {
        "id": "AwOoIjyhw17_",
        "colab": {
          "base_uri": "https://localhost:8080/",
          "height": 646
        },
        "outputId": "e933df90-88da-471e-f7b7-329ed8db337a"
      },
      "source": [
        "# boxplot appliances\r\n",
        "plt.figure(figsize=(14,10))\r\n",
        "sns.boxplot(x=\"Tc\", data=final)\r\n",
        "plt.xlabel('Core Temperature', fontsize=12)\r\n",
        "plt.title(\"Core Temperature distribution\", fontsize=15)"
      ],
      "execution_count": null,
      "outputs": [
        {
          "output_type": "execute_result",
          "data": {
            "text/plain": [
              "Text(0.5, 1.0, 'Core Temperature distribution')"
            ]
          },
          "metadata": {
            "tags": []
          },
          "execution_count": 25
        },
        {
          "output_type": "display_data",
          "data": {
            "image/png": "[encoded data removed]",
            "text/plain": [
              "<Figure size 1008x720 with 1 Axes>"
            ]
          },
          "metadata": {
            "tags": [],
            "needs_background": "light"
          }
        }
      ]
    },
    {
      "cell_type": "code",
      "metadata": {
        "colab": {
          "base_uri": "https://localhost:8080/"
        },
        "id": "yz6Bm__liSBq",
        "outputId": "75d1bb05-17aa-4d5c-829f-c79a528da6e9"
      },
      "source": [
        "#Outliers\r\n",
        "Q1 = final['Tc'].quantile(0.25)\r\n",
        "Q3 = final['Tc'].quantile(0.75)\r\n",
        "IQR = Q3 - Q1\r\n",
        "print(\"The Inter Quartile Range is: \",IQR)"
      ],
      "execution_count": null,
      "outputs": [
        {
          "output_type": "stream",
          "text": [
            "The Inter Quartile Range is:  0.6430666666666696\n"
          ],
          "name": "stdout"
        }
      ]
    },
    {
      "cell_type": "code",
      "metadata": {
        "colab": {
          "base_uri": "https://localhost:8080/"
        },
        "id": "Q9HqeRBmj_X1",
        "outputId": "1e716e9a-c93c-4fa5-93f9-6b175f6519a2"
      },
      "source": [
        "Lower_Bound=(Q1 - 1.5 * IQR)\r\n",
        "Upper_Bound=(Q3 + 1.5 * IQR)\r\n",
        "print('Temperature Lower Bound is:',Lower_Bound)\r\n",
        "print('Temperature Upper Bound is:',Upper_Bound)"
      ],
      "execution_count": null,
      "outputs": [
        {
          "output_type": "stream",
          "text": [
            "Temperature Lower Bound is: 35.65539999999999\n",
            "Temperature Upper Bound is: 38.22766666666667\n"
          ],
          "name": "stdout"
        }
      ]
    },
    {
      "cell_type": "markdown",
      "metadata": {
        "id": "ehkL46h9k89M"
      },
      "source": [
        "Since the temperature is not normally distributed, I have used IQR method to remove Outliers.\r\n",
        "\r\n",
        "Removed values beyond upper bound"
      ]
    },
    {
      "cell_type": "code",
      "metadata": {
        "id": "bjt5leIvkem3"
      },
      "source": [
        "#Removing Outliers\r\n",
        "#final_df=final[final['Tc']<=Upper_Bound]"
      ],
      "execution_count": null,
      "outputs": []
    },
    {
      "cell_type": "code",
      "metadata": {
        "colab": {
          "base_uri": "https://localhost:8080/"
        },
        "id": "qpujqBZ9kylF",
        "outputId": "888eefb7-a160-4eda-c5bd-62b2897ee8bb"
      },
      "source": [
        "#print (\"The data file has \" + str(final_df.shape[1]) + \" columns and \" + str(final_df.shape[0]) + \" rows\")"
      ],
      "execution_count": null,
      "outputs": [
        {
          "output_type": "stream",
          "text": [
            "The data file has 19 columns and 2695300 rows\n"
          ],
          "name": "stdout"
        }
      ]
    },
    {
      "cell_type": "markdown",
      "metadata": {
        "id": "8nOaYHCQW27_"
      },
      "source": [
        "Distribution of all features"
      ]
    },
    {
      "cell_type": "code",
      "metadata": {
        "colab": {
          "base_uri": "https://localhost:8080/",
          "height": 1000
        },
        "id": "nOUSrUMBlNCb",
        "outputId": "1fec52f0-4776-4219-f366-bf8e49f49de4"
      },
      "source": [
        "final.hist(bins = 20 , figsize= (12,16))"
      ],
      "execution_count": null,
      "outputs": [
        {
          "output_type": "execute_result",
          "data": {
            "text/plain": [
              "array([[<matplotlib.axes._subplots.AxesSubplot object at 0x7f0afdf02eb8>,\n",
              "        <matplotlib.axes._subplots.AxesSubplot object at 0x7f0afde2f358>,\n",
              "        <matplotlib.axes._subplots.AxesSubplot object at 0x7f0afde605c0>,\n",
              "        <matplotlib.axes._subplots.AxesSubplot object at 0x7f0afde10828>],\n",
              "       [<matplotlib.axes._subplots.AxesSubplot object at 0x7f0afddc4a90>,\n",
              "        <matplotlib.axes._subplots.AxesSubplot object at 0x7f0afdd79cf8>,\n",
              "        <matplotlib.axes._subplots.AxesSubplot object at 0x7f0afdf8b898>,\n",
              "        <matplotlib.axes._subplots.AxesSubplot object at 0x7f0afde2f2b0>],\n",
              "       [<matplotlib.axes._subplots.AxesSubplot object at 0x7f0afde2f668>,\n",
              "        <matplotlib.axes._subplots.AxesSubplot object at 0x7f0afd837c88>,\n",
              "        <matplotlib.axes._subplots.AxesSubplot object at 0x7f0afd7ebef0>,\n",
              "        <matplotlib.axes._subplots.AxesSubplot object at 0x7f0afd7ab198>],\n",
              "       [<matplotlib.axes._subplots.AxesSubplot object at 0x7f0afd760400>,\n",
              "        <matplotlib.axes._subplots.AxesSubplot object at 0x7f0afd792668>,\n",
              "        <matplotlib.axes._subplots.AxesSubplot object at 0x7f0afd7468d0>,\n",
              "        <matplotlib.axes._subplots.AxesSubplot object at 0x7f0afd6fab38>]],\n",
              "      dtype=object)"
            ]
          },
          "metadata": {
            "tags": []
          },
          "execution_count": 28
        },
        {
          "output_type": "display_data",
          "data": {
            "image/png": "[encoded data removed]",
            "text/plain": [
              "<Figure size 864x1152 with 16 Axes>"
            ]
          },
          "metadata": {
            "tags": [],
            "needs_background": "light"
          }
        }
      ]
    },
    {
      "cell_type": "code",
      "metadata": {
        "colab": {
          "base_uri": "https://localhost:8080/",
          "height": 621
        },
        "id": "cbQlNxBClNLR",
        "outputId": "b7403b13-f491-45a5-b1de-986a777a8aab"
      },
      "source": [
        "plt.figure(figsize=(12,10))\r\n",
        "plt.title('Temperature Distribution')\r\n",
        "sns.distplot(final['Tc'],color='blue');"
      ],
      "execution_count": null,
      "outputs": [
        {
          "output_type": "display_data",
          "data": {
            "image/png": "[encoded data removed]",
            "text/plain": [
              "<Figure size 864x720 with 1 Axes>"
            ]
          },
          "metadata": {
            "tags": [],
            "needs_background": "light"
          }
        }
      ]
    },
    {
      "cell_type": "code",
      "metadata": {
        "id": "jyeI9LomoKpx"
      },
      "source": [
        "#Creating Hour column\r\n",
        "final['hour'] = final.DateTime.dt.hour"
      ],
      "execution_count": 18,
      "outputs": []
    },
    {
      "cell_type": "code",
      "metadata": {
        "colab": {
          "base_uri": "https://localhost:8080/"
        },
        "id": "OD-fVUmzootW",
        "outputId": "ca4161af-5281-4b31-e946-3a99b2429241"
      },
      "source": [
        "final.columns"
      ],
      "execution_count": null,
      "outputs": [
        {
          "output_type": "execute_result",
          "data": {
            "text/plain": [
              "Index(['userId', 'DateTime', 'signalQ1', 'heartRateAvg', 'stepRate',\n",
              "       'skinRH109', 'skinTemp109', 'ambientRH110', 'ambientTemp110', 'Tc',\n",
              "       'PatchId', 'SubjectId', 'Trial', 'Age', 'Sex', 'Height', 'Weight',\n",
              "       'activity_flag', 'menstrual_flag', 'hour'],\n",
              "      dtype='object')"
            ]
          },
          "metadata": {
            "tags": []
          },
          "execution_count": 32
        }
      ]
    },
    {
      "cell_type": "code",
      "metadata": {
        "id": "np29FtDglNPU"
      },
      "source": [
        "#Removing unnecessary columns:\r\n",
        "final=final.drop(columns=['userId','DateTime','PatchId', 'SubjectId', 'Trial'],axis=1)"
      ],
      "execution_count": 19,
      "outputs": []
    },
    {
      "cell_type": "code",
      "metadata": {
        "colab": {
          "base_uri": "https://localhost:8080/"
        },
        "id": "Ul8jitBcpMc8",
        "outputId": "73280671-9074-422f-a8d0-a9947d178a25"
      },
      "source": [
        "final.signalQ1.value_counts()"
      ],
      "execution_count": null,
      "outputs": [
        {
          "output_type": "execute_result",
          "data": {
            "text/plain": [
              "0    2683343\n",
              "1      34403\n",
              "Name: signalQ1, dtype: int64"
            ]
          },
          "metadata": {
            "tags": []
          },
          "execution_count": 34
        }
      ]
    },
    {
      "cell_type": "code",
      "metadata": {
        "id": "HmbxDaS-pY2g"
      },
      "source": [
        "def hourly(x,df):\r\n",
        "    return df.groupby('hour')[x].mean()"
      ],
      "execution_count": null,
      "outputs": []
    },
    {
      "cell_type": "code",
      "metadata": {
        "colab": {
          "base_uri": "https://localhost:8080/",
          "height": 513
        },
        "id": "6IXQKE9UpY6q",
        "outputId": "f6651475-5ad9-465a-8aee-b131eb0821db"
      },
      "source": [
        "x=hourly('Tc',final_df).plot(figsize=(10,8),marker='o')\r\n",
        "x.legend(loc='lower right')\r\n",
        "plt.xlabel('Hour')\r\n",
        "ticks = list(range(0, 24, 1))\r\n",
        "plt.ylabel('Temperature')\r\n",
        "plt.title('Mean Temperature per hour of the day')\r\n",
        "\r\n",
        "plt.xticks(ticks);"
      ],
      "execution_count": null,
      "outputs": [
        {
          "output_type": "display_data",
          "data": {
            "image/png": "[encoded data removed]",
            "text/plain": [
              "<Figure size 720x576 with 1 Axes>"
            ]
          },
          "metadata": {
            "tags": [],
            "needs_background": "light"
          }
        }
      ]
    },
    {
      "cell_type": "markdown",
      "metadata": {
        "id": "yB40bL2hXBLF"
      },
      "source": [
        "Checking mean teamperature for good and bad signals for each hour of the day"
      ]
    },
    {
      "cell_type": "code",
      "metadata": {
        "colab": {
          "base_uri": "https://localhost:8080/",
          "height": 513
        },
        "id": "-_KhZ8cMpY-Z",
        "outputId": "84b19cc9-0a53-4429-c1aa-9323c3e47fba"
      },
      "source": [
        "for signal in [0,1]:\r\n",
        "\r\n",
        "  x=hourly('Tc',final_df[final_df['signalQ1']==signal]).plot(label=signal,figsize=(10,8),marker='o')\r\n",
        "  x.legend(loc='lower right')\r\n",
        "  plt.xlabel('Hour')\r\n",
        "  ticks = list(range(0, 24, 1))\r\n",
        "  plt.ylabel('Core Temperature')\r\n",
        "  plt.title('Mean Temperature per hour of the day')\r\n",
        "\r\n",
        "  plt.xticks(ticks);"
      ],
      "execution_count": null,
      "outputs": [
        {
          "output_type": "display_data",
          "data": {
            "image/png": "[encoded data removed]",
            "text/plain": [
              "<Figure size 720x576 with 1 Axes>"
            ]
          },
          "metadata": {
            "tags": [],
            "needs_background": "light"
          }
        }
      ]
    },
    {
      "cell_type": "code",
      "metadata": {
        "colab": {
          "base_uri": "https://localhost:8080/",
          "height": 621
        },
        "id": "KHAdFjW5pZAh",
        "outputId": "427140d1-c47f-4074-e381-6b8c687a9dae"
      },
      "source": [
        "plt.figure(figsize=(10,10))\r\n",
        "plt.title('Temperature Distribution')\r\n",
        "bad_signal=final_df[final_df['signalQ1']==1]\r\n",
        "sns.distplot(bad_signal['Tc'],color='blue');"
      ],
      "execution_count": null,
      "outputs": [
        {
          "output_type": "display_data",
          "data": {
            "image/png": "[encoded data removed]",
            "text/plain": [
              "<Figure size 720x720 with 1 Axes>"
            ]
          },
          "metadata": {
            "tags": [],
            "needs_background": "light"
          }
        }
      ]
    },
    {
      "cell_type": "code",
      "metadata": {
        "colab": {
          "base_uri": "https://localhost:8080/"
        },
        "id": "DlUlUMV-pZCk",
        "outputId": "e9840eb2-03ee-4a2d-86c1-ef28e3ea04f2"
      },
      "source": [
        "final.info()"
      ],
      "execution_count": null,
      "outputs": [
        {
          "output_type": "stream",
          "text": [
            "<class 'pandas.core.frame.DataFrame'>\n",
            "Int64Index: 2717746 entries, 3601 to 2822174\n",
            "Data columns (total 15 columns):\n",
            " #   Column          Dtype  \n",
            "---  ------          -----  \n",
            " 0   signalQ1        int64  \n",
            " 1   heartRateAvg    float64\n",
            " 2   stepRate        int64  \n",
            " 3   skinRH109       float64\n",
            " 4   skinTemp109     float64\n",
            " 5   ambientRH110    float64\n",
            " 6   ambientTemp110  float64\n",
            " 7   Tc              float64\n",
            " 8   Age             int64  \n",
            " 9   Sex             object \n",
            " 10  Height          float64\n",
            " 11  Weight          float64\n",
            " 12  activity_flag   int64  \n",
            " 13  menstrual_flag  object \n",
            " 14  hour            int64  \n",
            "dtypes: float64(8), int64(5), object(2)\n",
            "memory usage: 331.8+ MB\n"
          ],
          "name": "stdout"
        }
      ]
    },
    {
      "cell_type": "code",
      "metadata": {
        "id": "aNVoIIhcpZG7"
      },
      "source": [
        "#Changing some features to Categorical\r\n",
        "final['signalQ1']=final.signalQ1.astype('category')\r\n",
        "final['activity_flag']=final.activity_flag.astype('category')"
      ],
      "execution_count": 20,
      "outputs": []
    },
    {
      "cell_type": "code",
      "metadata": {
        "colab": {
          "base_uri": "https://localhost:8080/"
        },
        "id": "Ft9KZRSGtrvL",
        "outputId": "afed160d-46c1-42bc-ffb2-6517669ebb72"
      },
      "source": [
        "categorical= final.select_dtypes(include=['object', 'bool','category']).columns\r\n",
        "categorical"
      ],
      "execution_count": 21,
      "outputs": [
        {
          "output_type": "execute_result",
          "data": {
            "text/plain": [
              "Index(['signalQ1', 'Sex', 'activity_flag', 'menstrual_flag'], dtype='object')"
            ]
          },
          "metadata": {
            "tags": []
          },
          "execution_count": 21
        }
      ]
    },
    {
      "cell_type": "code",
      "metadata": {
        "colab": {
          "base_uri": "https://localhost:8080/"
        },
        "id": "n_Iv_pPxtrx6",
        "outputId": "fd7b1024-fd07-416d-faf5-da4fb7e83e49"
      },
      "source": [
        "for col in categorical:\r\n",
        "    print(np.unique(final[col]))"
      ],
      "execution_count": 22,
      "outputs": [
        {
          "output_type": "stream",
          "text": [
            "[0 1]\n",
            "['Female' 'Male']\n",
            "[0 1]\n",
            "['Mid-luteal? (Day 19 of 40)\\r\\nDysmenorrhea and Premenstural Symdrone (PMS). \\r\\nParticipant has irregular periods. '\n",
            " 'follicular' 'irregular' 'luteal' 'male']\n"
          ],
          "name": "stdout"
        }
      ]
    },
    {
      "cell_type": "code",
      "metadata": {
        "id": "mJaIHvEBtr19"
      },
      "source": [
        "# transforming categorical columns\r\n",
        "final = pd.get_dummies(final, columns=categorical)"
      ],
      "execution_count": 23,
      "outputs": []
    },
    {
      "cell_type": "code",
      "metadata": {
        "colab": {
          "base_uri": "https://localhost:8080/",
          "height": 330
        },
        "id": "bn9hMyYguK1Z",
        "outputId": "f4a43e59-3e19-4777-eb1f-25061a118278"
      },
      "source": [
        "final.head()"
      ],
      "execution_count": null,
      "outputs": [
        {
          "output_type": "execute_result",
          "data": {
            "text/html": [
              "<div>\n",
              "<style scoped>\n",
              "    .dataframe tbody tr th:only-of-type {\n",
              "        vertical-align: middle;\n",
              "    }\n",
              "\n",
              "    .dataframe tbody tr th {\n",
              "        vertical-align: top;\n",
              "    }\n",
              "\n",
              "    .dataframe thead th {\n",
              "        text-align: right;\n",
              "    }\n",
              "</style>\n",
              "<table border=\"1\" class=\"dataframe\">\n",
              "  <thead>\n",
              "    <tr style=\"text-align: right;\">\n",
              "      <th></th>\n",
              "      <th>heartRateAvg</th>\n",
              "      <th>stepRate</th>\n",
              "      <th>skinRH109</th>\n",
              "      <th>skinTemp109</th>\n",
              "      <th>ambientRH110</th>\n",
              "      <th>ambientTemp110</th>\n",
              "      <th>Tc</th>\n",
              "      <th>Age</th>\n",
              "      <th>Height</th>\n",
              "      <th>Weight</th>\n",
              "      <th>hour</th>\n",
              "      <th>signalQ1_0</th>\n",
              "      <th>signalQ1_1</th>\n",
              "      <th>Sex_Female</th>\n",
              "      <th>Sex_Male</th>\n",
              "      <th>activity_flag_0</th>\n",
              "      <th>activity_flag_1</th>\n",
              "      <th>menstrual_flag_Mid-luteal? (Day 19 of 40)\\r\\nDysmenorrhea and Premenstural Symdrone (PMS). \\r\\nParticipant has irregular periods.</th>\n",
              "      <th>menstrual_flag_follicular</th>\n",
              "      <th>menstrual_flag_irregular</th>\n",
              "      <th>menstrual_flag_luteal</th>\n",
              "      <th>menstrual_flag_male</th>\n",
              "    </tr>\n",
              "  </thead>\n",
              "  <tbody>\n",
              "    <tr>\n",
              "      <th>3601</th>\n",
              "      <td>81.14</td>\n",
              "      <td>0</td>\n",
              "      <td>23.2700</td>\n",
              "      <td>31.954</td>\n",
              "      <td>57.466</td>\n",
              "      <td>33.260</td>\n",
              "      <td>36.819834</td>\n",
              "      <td>22</td>\n",
              "      <td>175.0</td>\n",
              "      <td>63.0</td>\n",
              "      <td>13</td>\n",
              "      <td>1</td>\n",
              "      <td>0</td>\n",
              "      <td>1</td>\n",
              "      <td>0</td>\n",
              "      <td>1</td>\n",
              "      <td>0</td>\n",
              "      <td>0</td>\n",
              "      <td>0</td>\n",
              "      <td>0</td>\n",
              "      <td>1</td>\n",
              "      <td>0</td>\n",
              "    </tr>\n",
              "    <tr>\n",
              "      <th>3602</th>\n",
              "      <td>81.14</td>\n",
              "      <td>0</td>\n",
              "      <td>23.2600</td>\n",
              "      <td>31.952</td>\n",
              "      <td>57.468</td>\n",
              "      <td>33.260</td>\n",
              "      <td>36.819801</td>\n",
              "      <td>22</td>\n",
              "      <td>175.0</td>\n",
              "      <td>63.0</td>\n",
              "      <td>13</td>\n",
              "      <td>1</td>\n",
              "      <td>0</td>\n",
              "      <td>1</td>\n",
              "      <td>0</td>\n",
              "      <td>1</td>\n",
              "      <td>0</td>\n",
              "      <td>0</td>\n",
              "      <td>0</td>\n",
              "      <td>0</td>\n",
              "      <td>1</td>\n",
              "      <td>0</td>\n",
              "    </tr>\n",
              "    <tr>\n",
              "      <th>3603</th>\n",
              "      <td>81.15</td>\n",
              "      <td>0</td>\n",
              "      <td>23.2500</td>\n",
              "      <td>31.950</td>\n",
              "      <td>57.470</td>\n",
              "      <td>33.260</td>\n",
              "      <td>36.819767</td>\n",
              "      <td>22</td>\n",
              "      <td>175.0</td>\n",
              "      <td>63.0</td>\n",
              "      <td>13</td>\n",
              "      <td>1</td>\n",
              "      <td>0</td>\n",
              "      <td>1</td>\n",
              "      <td>0</td>\n",
              "      <td>1</td>\n",
              "      <td>0</td>\n",
              "      <td>0</td>\n",
              "      <td>0</td>\n",
              "      <td>0</td>\n",
              "      <td>1</td>\n",
              "      <td>0</td>\n",
              "    </tr>\n",
              "    <tr>\n",
              "      <th>3604</th>\n",
              "      <td>81.15</td>\n",
              "      <td>0</td>\n",
              "      <td>23.3025</td>\n",
              "      <td>31.950</td>\n",
              "      <td>57.460</td>\n",
              "      <td>33.265</td>\n",
              "      <td>36.819734</td>\n",
              "      <td>22</td>\n",
              "      <td>175.0</td>\n",
              "      <td>63.0</td>\n",
              "      <td>13</td>\n",
              "      <td>1</td>\n",
              "      <td>0</td>\n",
              "      <td>1</td>\n",
              "      <td>0</td>\n",
              "      <td>1</td>\n",
              "      <td>0</td>\n",
              "      <td>0</td>\n",
              "      <td>0</td>\n",
              "      <td>0</td>\n",
              "      <td>1</td>\n",
              "      <td>0</td>\n",
              "    </tr>\n",
              "    <tr>\n",
              "      <th>3605</th>\n",
              "      <td>81.15</td>\n",
              "      <td>0</td>\n",
              "      <td>23.3550</td>\n",
              "      <td>31.950</td>\n",
              "      <td>57.450</td>\n",
              "      <td>33.270</td>\n",
              "      <td>36.819701</td>\n",
              "      <td>22</td>\n",
              "      <td>175.0</td>\n",
              "      <td>63.0</td>\n",
              "      <td>13</td>\n",
              "      <td>1</td>\n",
              "      <td>0</td>\n",
              "      <td>1</td>\n",
              "      <td>0</td>\n",
              "      <td>1</td>\n",
              "      <td>0</td>\n",
              "      <td>0</td>\n",
              "      <td>0</td>\n",
              "      <td>0</td>\n",
              "      <td>1</td>\n",
              "      <td>0</td>\n",
              "    </tr>\n",
              "  </tbody>\n",
              "</table>\n",
              "</div>"
            ],
            "text/plain": [
              "      heartRateAvg  stepRate  ...  menstrual_flag_luteal  menstrual_flag_male\n",
              "3601         81.14         0  ...                      1                    0\n",
              "3602         81.14         0  ...                      1                    0\n",
              "3603         81.15         0  ...                      1                    0\n",
              "3604         81.15         0  ...                      1                    0\n",
              "3605         81.15         0  ...                      1                    0\n",
              "\n",
              "[5 rows x 22 columns]"
            ]
          },
          "metadata": {
            "tags": []
          },
          "execution_count": 40
        }
      ]
    },
    {
      "cell_type": "code",
      "metadata": {
        "colab": {
          "base_uri": "https://localhost:8080/",
          "height": 968
        },
        "id": "JC5SlmJXuT1D",
        "outputId": "9b6f52cb-e817-4ac9-fffa-1677ca237ccd"
      },
      "source": [
        "final.corr()"
      ],
      "execution_count": null,
      "outputs": [
        {
          "output_type": "execute_result",
          "data": {
            "text/html": [
              "<div>\n",
              "<style scoped>\n",
              "    .dataframe tbody tr th:only-of-type {\n",
              "        vertical-align: middle;\n",
              "    }\n",
              "\n",
              "    .dataframe tbody tr th {\n",
              "        vertical-align: top;\n",
              "    }\n",
              "\n",
              "    .dataframe thead th {\n",
              "        text-align: right;\n",
              "    }\n",
              "</style>\n",
              "<table border=\"1\" class=\"dataframe\">\n",
              "  <thead>\n",
              "    <tr style=\"text-align: right;\">\n",
              "      <th></th>\n",
              "      <th>heartRateAvg</th>\n",
              "      <th>stepRate</th>\n",
              "      <th>skinRH109</th>\n",
              "      <th>skinTemp109</th>\n",
              "      <th>ambientRH110</th>\n",
              "      <th>ambientTemp110</th>\n",
              "      <th>Tc</th>\n",
              "      <th>Age</th>\n",
              "      <th>Height</th>\n",
              "      <th>Weight</th>\n",
              "      <th>hour</th>\n",
              "      <th>signalQ1_0</th>\n",
              "      <th>signalQ1_1</th>\n",
              "      <th>Sex_Female</th>\n",
              "      <th>Sex_Male</th>\n",
              "      <th>activity_flag_0</th>\n",
              "      <th>activity_flag_1</th>\n",
              "      <th>menstrual_flag_Mid-luteal? (Day 19 of 40)\\r\\nDysmenorrhea and Premenstural Symdrone (PMS). \\r\\nParticipant has irregular periods.</th>\n",
              "      <th>menstrual_flag_follicular</th>\n",
              "      <th>menstrual_flag_irregular</th>\n",
              "      <th>menstrual_flag_luteal</th>\n",
              "      <th>menstrual_flag_male</th>\n",
              "    </tr>\n",
              "  </thead>\n",
              "  <tbody>\n",
              "    <tr>\n",
              "      <th>heartRateAvg</th>\n",
              "      <td>1.000000</td>\n",
              "      <td>0.411438</td>\n",
              "      <td>-0.267795</td>\n",
              "      <td>-0.245731</td>\n",
              "      <td>0.105807</td>\n",
              "      <td>-0.153193</td>\n",
              "      <td>0.563350</td>\n",
              "      <td>-0.037560</td>\n",
              "      <td>-0.106908</td>\n",
              "      <td>0.094687</td>\n",
              "      <td>0.334916</td>\n",
              "      <td>-0.114358</td>\n",
              "      <td>0.114358</td>\n",
              "      <td>0.234595</td>\n",
              "      <td>-0.234595</td>\n",
              "      <td>-0.004484</td>\n",
              "      <td>0.004484</td>\n",
              "      <td>0.118205</td>\n",
              "      <td>0.110342</td>\n",
              "      <td>0.069622</td>\n",
              "      <td>0.162144</td>\n",
              "      <td>-0.280449</td>\n",
              "    </tr>\n",
              "    <tr>\n",
              "      <th>stepRate</th>\n",
              "      <td>0.411438</td>\n",
              "      <td>1.000000</td>\n",
              "      <td>-0.185216</td>\n",
              "      <td>-0.211548</td>\n",
              "      <td>0.108423</td>\n",
              "      <td>-0.131244</td>\n",
              "      <td>0.294424</td>\n",
              "      <td>0.018521</td>\n",
              "      <td>-0.017949</td>\n",
              "      <td>-0.024593</td>\n",
              "      <td>0.163825</td>\n",
              "      <td>-0.088697</td>\n",
              "      <td>0.088697</td>\n",
              "      <td>-0.002022</td>\n",
              "      <td>0.002022</td>\n",
              "      <td>-0.004732</td>\n",
              "      <td>0.004732</td>\n",
              "      <td>-0.028383</td>\n",
              "      <td>0.013382</td>\n",
              "      <td>-0.023342</td>\n",
              "      <td>-0.002437</td>\n",
              "      <td>0.011994</td>\n",
              "    </tr>\n",
              "    <tr>\n",
              "      <th>skinRH109</th>\n",
              "      <td>-0.267795</td>\n",
              "      <td>-0.185216</td>\n",
              "      <td>1.000000</td>\n",
              "      <td>0.181836</td>\n",
              "      <td>0.225395</td>\n",
              "      <td>0.106262</td>\n",
              "      <td>-0.292778</td>\n",
              "      <td>-0.182115</td>\n",
              "      <td>-0.092330</td>\n",
              "      <td>-0.063137</td>\n",
              "      <td>-0.276442</td>\n",
              "      <td>0.017887</td>\n",
              "      <td>-0.017887</td>\n",
              "      <td>0.166390</td>\n",
              "      <td>-0.166390</td>\n",
              "      <td>0.001494</td>\n",
              "      <td>-0.001494</td>\n",
              "      <td>0.047803</td>\n",
              "      <td>0.087538</td>\n",
              "      <td>0.086291</td>\n",
              "      <td>-0.054722</td>\n",
              "      <td>-0.064524</td>\n",
              "    </tr>\n",
              "    <tr>\n",
              "      <th>skinTemp109</th>\n",
              "      <td>-0.245731</td>\n",
              "      <td>-0.211548</td>\n",
              "      <td>0.181836</td>\n",
              "      <td>1.000000</td>\n",
              "      <td>-0.030542</td>\n",
              "      <td>0.952679</td>\n",
              "      <td>-0.221473</td>\n",
              "      <td>0.100150</td>\n",
              "      <td>-0.089509</td>\n",
              "      <td>-0.012441</td>\n",
              "      <td>-0.168374</td>\n",
              "      <td>0.192513</td>\n",
              "      <td>-0.192513</td>\n",
              "      <td>0.100066</td>\n",
              "      <td>-0.100066</td>\n",
              "      <td>0.005360</td>\n",
              "      <td>-0.005360</td>\n",
              "      <td>0.037939</td>\n",
              "      <td>0.038702</td>\n",
              "      <td>0.066977</td>\n",
              "      <td>-0.022312</td>\n",
              "      <td>-0.047636</td>\n",
              "    </tr>\n",
              "    <tr>\n",
              "      <th>ambientRH110</th>\n",
              "      <td>0.105807</td>\n",
              "      <td>0.108423</td>\n",
              "      <td>0.225395</td>\n",
              "      <td>-0.030542</td>\n",
              "      <td>1.000000</td>\n",
              "      <td>0.044917</td>\n",
              "      <td>0.102398</td>\n",
              "      <td>-0.183948</td>\n",
              "      <td>-0.158658</td>\n",
              "      <td>-0.186387</td>\n",
              "      <td>-0.030319</td>\n",
              "      <td>0.062880</td>\n",
              "      <td>-0.062880</td>\n",
              "      <td>0.025052</td>\n",
              "      <td>-0.025052</td>\n",
              "      <td>-0.000149</td>\n",
              "      <td>0.000149</td>\n",
              "      <td>-0.138281</td>\n",
              "      <td>0.131760</td>\n",
              "      <td>0.064450</td>\n",
              "      <td>-0.116473</td>\n",
              "      <td>0.027889</td>\n",
              "    </tr>\n",
              "    <tr>\n",
              "      <th>ambientTemp110</th>\n",
              "      <td>-0.153193</td>\n",
              "      <td>-0.131244</td>\n",
              "      <td>0.106262</td>\n",
              "      <td>0.952679</td>\n",
              "      <td>0.044917</td>\n",
              "      <td>1.000000</td>\n",
              "      <td>-0.122130</td>\n",
              "      <td>0.067542</td>\n",
              "      <td>-0.068897</td>\n",
              "      <td>-0.044731</td>\n",
              "      <td>-0.117296</td>\n",
              "      <td>0.245849</td>\n",
              "      <td>-0.245849</td>\n",
              "      <td>0.085829</td>\n",
              "      <td>-0.085829</td>\n",
              "      <td>0.004571</td>\n",
              "      <td>-0.004571</td>\n",
              "      <td>0.007134</td>\n",
              "      <td>0.022186</td>\n",
              "      <td>0.028824</td>\n",
              "      <td>-0.025261</td>\n",
              "      <td>-0.007938</td>\n",
              "    </tr>\n",
              "    <tr>\n",
              "      <th>Tc</th>\n",
              "      <td>0.563350</td>\n",
              "      <td>0.294424</td>\n",
              "      <td>-0.292778</td>\n",
              "      <td>-0.221473</td>\n",
              "      <td>0.102398</td>\n",
              "      <td>-0.122130</td>\n",
              "      <td>1.000000</td>\n",
              "      <td>-0.174451</td>\n",
              "      <td>0.036619</td>\n",
              "      <td>-0.056126</td>\n",
              "      <td>0.438818</td>\n",
              "      <td>-0.077028</td>\n",
              "      <td>0.077028</td>\n",
              "      <td>0.237371</td>\n",
              "      <td>-0.237371</td>\n",
              "      <td>-0.003765</td>\n",
              "      <td>0.003765</td>\n",
              "      <td>-0.001733</td>\n",
              "      <td>0.106655</td>\n",
              "      <td>-0.032559</td>\n",
              "      <td>0.126933</td>\n",
              "      <td>-0.166204</td>\n",
              "    </tr>\n",
              "    <tr>\n",
              "      <th>Age</th>\n",
              "      <td>-0.037560</td>\n",
              "      <td>0.018521</td>\n",
              "      <td>-0.182115</td>\n",
              "      <td>0.100150</td>\n",
              "      <td>-0.183948</td>\n",
              "      <td>0.067542</td>\n",
              "      <td>-0.174451</td>\n",
              "      <td>1.000000</td>\n",
              "      <td>-0.011271</td>\n",
              "      <td>0.414289</td>\n",
              "      <td>-0.029167</td>\n",
              "      <td>0.047292</td>\n",
              "      <td>-0.047292</td>\n",
              "      <td>-0.588732</td>\n",
              "      <td>0.588732</td>\n",
              "      <td>0.001068</td>\n",
              "      <td>-0.001068</td>\n",
              "      <td>-0.112188</td>\n",
              "      <td>-0.163980</td>\n",
              "      <td>-0.190401</td>\n",
              "      <td>-0.289919</td>\n",
              "      <td>0.473877</td>\n",
              "    </tr>\n",
              "    <tr>\n",
              "      <th>Height</th>\n",
              "      <td>-0.106908</td>\n",
              "      <td>-0.017949</td>\n",
              "      <td>-0.092330</td>\n",
              "      <td>-0.089509</td>\n",
              "      <td>-0.158658</td>\n",
              "      <td>-0.068897</td>\n",
              "      <td>0.036619</td>\n",
              "      <td>-0.011271</td>\n",
              "      <td>1.000000</td>\n",
              "      <td>0.583344</td>\n",
              "      <td>-0.059392</td>\n",
              "      <td>-0.015072</td>\n",
              "      <td>0.015072</td>\n",
              "      <td>-0.266654</td>\n",
              "      <td>0.266654</td>\n",
              "      <td>-0.000966</td>\n",
              "      <td>0.000966</td>\n",
              "      <td>0.254413</td>\n",
              "      <td>-0.329599</td>\n",
              "      <td>-0.353385</td>\n",
              "      <td>-0.134771</td>\n",
              "      <td>0.402519</td>\n",
              "    </tr>\n",
              "    <tr>\n",
              "      <th>Weight</th>\n",
              "      <td>0.094687</td>\n",
              "      <td>-0.024593</td>\n",
              "      <td>-0.063137</td>\n",
              "      <td>-0.012441</td>\n",
              "      <td>-0.186387</td>\n",
              "      <td>-0.044731</td>\n",
              "      <td>-0.056126</td>\n",
              "      <td>0.414289</td>\n",
              "      <td>0.583344</td>\n",
              "      <td>1.000000</td>\n",
              "      <td>-0.011211</td>\n",
              "      <td>0.039456</td>\n",
              "      <td>-0.039456</td>\n",
              "      <td>-0.311165</td>\n",
              "      <td>0.311165</td>\n",
              "      <td>0.000814</td>\n",
              "      <td>-0.000814</td>\n",
              "      <td>0.143152</td>\n",
              "      <td>-0.237557</td>\n",
              "      <td>-0.027045</td>\n",
              "      <td>-0.273975</td>\n",
              "      <td>0.358712</td>\n",
              "    </tr>\n",
              "    <tr>\n",
              "      <th>hour</th>\n",
              "      <td>0.334916</td>\n",
              "      <td>0.163825</td>\n",
              "      <td>-0.276442</td>\n",
              "      <td>-0.168374</td>\n",
              "      <td>-0.030319</td>\n",
              "      <td>-0.117296</td>\n",
              "      <td>0.438818</td>\n",
              "      <td>-0.029167</td>\n",
              "      <td>-0.059392</td>\n",
              "      <td>-0.011211</td>\n",
              "      <td>1.000000</td>\n",
              "      <td>-0.054696</td>\n",
              "      <td>0.054696</td>\n",
              "      <td>0.064178</td>\n",
              "      <td>-0.064178</td>\n",
              "      <td>-0.003578</td>\n",
              "      <td>0.003578</td>\n",
              "      <td>-0.016930</td>\n",
              "      <td>0.057455</td>\n",
              "      <td>0.009861</td>\n",
              "      <td>0.007836</td>\n",
              "      <td>-0.044255</td>\n",
              "    </tr>\n",
              "    <tr>\n",
              "      <th>signalQ1_0</th>\n",
              "      <td>-0.114358</td>\n",
              "      <td>-0.088697</td>\n",
              "      <td>0.017887</td>\n",
              "      <td>0.192513</td>\n",
              "      <td>0.062880</td>\n",
              "      <td>0.245849</td>\n",
              "      <td>-0.077028</td>\n",
              "      <td>0.047292</td>\n",
              "      <td>-0.015072</td>\n",
              "      <td>0.039456</td>\n",
              "      <td>-0.054696</td>\n",
              "      <td>1.000000</td>\n",
              "      <td>-1.000000</td>\n",
              "      <td>-0.047351</td>\n",
              "      <td>0.047351</td>\n",
              "      <td>0.003877</td>\n",
              "      <td>-0.003877</td>\n",
              "      <td>0.017203</td>\n",
              "      <td>0.029300</td>\n",
              "      <td>0.004212</td>\n",
              "      <td>-0.107619</td>\n",
              "      <td>0.064213</td>\n",
              "    </tr>\n",
              "    <tr>\n",
              "      <th>signalQ1_1</th>\n",
              "      <td>0.114358</td>\n",
              "      <td>0.088697</td>\n",
              "      <td>-0.017887</td>\n",
              "      <td>-0.192513</td>\n",
              "      <td>-0.062880</td>\n",
              "      <td>-0.245849</td>\n",
              "      <td>0.077028</td>\n",
              "      <td>-0.047292</td>\n",
              "      <td>0.015072</td>\n",
              "      <td>-0.039456</td>\n",
              "      <td>0.054696</td>\n",
              "      <td>-1.000000</td>\n",
              "      <td>1.000000</td>\n",
              "      <td>0.047351</td>\n",
              "      <td>-0.047351</td>\n",
              "      <td>-0.003877</td>\n",
              "      <td>0.003877</td>\n",
              "      <td>-0.017203</td>\n",
              "      <td>-0.029300</td>\n",
              "      <td>-0.004212</td>\n",
              "      <td>0.107619</td>\n",
              "      <td>-0.064213</td>\n",
              "    </tr>\n",
              "    <tr>\n",
              "      <th>Sex_Female</th>\n",
              "      <td>0.234595</td>\n",
              "      <td>-0.002022</td>\n",
              "      <td>0.166390</td>\n",
              "      <td>0.100066</td>\n",
              "      <td>0.025052</td>\n",
              "      <td>0.085829</td>\n",
              "      <td>0.237371</td>\n",
              "      <td>-0.588732</td>\n",
              "      <td>-0.266654</td>\n",
              "      <td>-0.311165</td>\n",
              "      <td>0.064178</td>\n",
              "      <td>-0.047351</td>\n",
              "      <td>0.047351</td>\n",
              "      <td>1.000000</td>\n",
              "      <td>-1.000000</td>\n",
              "      <td>-0.001347</td>\n",
              "      <td>0.001347</td>\n",
              "      <td>0.167295</td>\n",
              "      <td>0.388667</td>\n",
              "      <td>0.217207</td>\n",
              "      <td>0.376286</td>\n",
              "      <td>-0.729081</td>\n",
              "    </tr>\n",
              "    <tr>\n",
              "      <th>Sex_Male</th>\n",
              "      <td>-0.234595</td>\n",
              "      <td>0.002022</td>\n",
              "      <td>-0.166390</td>\n",
              "      <td>-0.100066</td>\n",
              "      <td>-0.025052</td>\n",
              "      <td>-0.085829</td>\n",
              "      <td>-0.237371</td>\n",
              "      <td>0.588732</td>\n",
              "      <td>0.266654</td>\n",
              "      <td>0.311165</td>\n",
              "      <td>-0.064178</td>\n",
              "      <td>0.047351</td>\n",
              "      <td>-0.047351</td>\n",
              "      <td>-1.000000</td>\n",
              "      <td>1.000000</td>\n",
              "      <td>0.001347</td>\n",
              "      <td>-0.001347</td>\n",
              "      <td>-0.167295</td>\n",
              "      <td>-0.388667</td>\n",
              "      <td>-0.217207</td>\n",
              "      <td>-0.376286</td>\n",
              "      <td>0.729081</td>\n",
              "    </tr>\n",
              "    <tr>\n",
              "      <th>activity_flag_0</th>\n",
              "      <td>-0.004484</td>\n",
              "      <td>-0.004732</td>\n",
              "      <td>0.001494</td>\n",
              "      <td>0.005360</td>\n",
              "      <td>-0.000149</td>\n",
              "      <td>0.004571</td>\n",
              "      <td>-0.003765</td>\n",
              "      <td>0.001068</td>\n",
              "      <td>-0.000966</td>\n",
              "      <td>0.000814</td>\n",
              "      <td>-0.003578</td>\n",
              "      <td>0.003877</td>\n",
              "      <td>-0.003877</td>\n",
              "      <td>-0.001347</td>\n",
              "      <td>0.001347</td>\n",
              "      <td>1.000000</td>\n",
              "      <td>-1.000000</td>\n",
              "      <td>-0.000148</td>\n",
              "      <td>0.000566</td>\n",
              "      <td>0.000873</td>\n",
              "      <td>-0.000784</td>\n",
              "      <td>-0.000034</td>\n",
              "    </tr>\n",
              "    <tr>\n",
              "      <th>activity_flag_1</th>\n",
              "      <td>0.004484</td>\n",
              "      <td>0.004732</td>\n",
              "      <td>-0.001494</td>\n",
              "      <td>-0.005360</td>\n",
              "      <td>0.000149</td>\n",
              "      <td>-0.004571</td>\n",
              "      <td>0.003765</td>\n",
              "      <td>-0.001068</td>\n",
              "      <td>0.000966</td>\n",
              "      <td>-0.000814</td>\n",
              "      <td>0.003578</td>\n",
              "      <td>-0.003877</td>\n",
              "      <td>0.003877</td>\n",
              "      <td>0.001347</td>\n",
              "      <td>-0.001347</td>\n",
              "      <td>-1.000000</td>\n",
              "      <td>1.000000</td>\n",
              "      <td>0.000148</td>\n",
              "      <td>-0.000566</td>\n",
              "      <td>-0.000873</td>\n",
              "      <td>0.000784</td>\n",
              "      <td>0.000034</td>\n",
              "    </tr>\n",
              "    <tr>\n",
              "      <th>menstrual_flag_Mid-luteal? (Day 19 of 40)\\r\\nDysmenorrhea and Premenstural Symdrone (PMS). \\r\\nParticipant has irregular periods.</th>\n",
              "      <td>0.118205</td>\n",
              "      <td>-0.028383</td>\n",
              "      <td>0.047803</td>\n",
              "      <td>0.037939</td>\n",
              "      <td>-0.138281</td>\n",
              "      <td>0.007134</td>\n",
              "      <td>-0.001733</td>\n",
              "      <td>-0.112188</td>\n",
              "      <td>0.254413</td>\n",
              "      <td>0.143152</td>\n",
              "      <td>-0.016930</td>\n",
              "      <td>0.017203</td>\n",
              "      <td>-0.017203</td>\n",
              "      <td>0.167295</td>\n",
              "      <td>-0.167295</td>\n",
              "      <td>-0.000148</td>\n",
              "      <td>0.000148</td>\n",
              "      <td>1.000000</td>\n",
              "      <td>-0.064376</td>\n",
              "      <td>-0.035977</td>\n",
              "      <td>-0.091102</td>\n",
              "      <td>-0.190805</td>\n",
              "    </tr>\n",
              "    <tr>\n",
              "      <th>menstrual_flag_follicular</th>\n",
              "      <td>0.110342</td>\n",
              "      <td>0.013382</td>\n",
              "      <td>0.087538</td>\n",
              "      <td>0.038702</td>\n",
              "      <td>0.131760</td>\n",
              "      <td>0.022186</td>\n",
              "      <td>0.106655</td>\n",
              "      <td>-0.163980</td>\n",
              "      <td>-0.329599</td>\n",
              "      <td>-0.237557</td>\n",
              "      <td>0.057455</td>\n",
              "      <td>0.029300</td>\n",
              "      <td>-0.029300</td>\n",
              "      <td>0.388667</td>\n",
              "      <td>-0.388667</td>\n",
              "      <td>0.000566</td>\n",
              "      <td>-0.000566</td>\n",
              "      <td>-0.064376</td>\n",
              "      <td>1.000000</td>\n",
              "      <td>-0.083583</td>\n",
              "      <td>-0.211652</td>\n",
              "      <td>-0.443289</td>\n",
              "    </tr>\n",
              "    <tr>\n",
              "      <th>menstrual_flag_irregular</th>\n",
              "      <td>0.069622</td>\n",
              "      <td>-0.023342</td>\n",
              "      <td>0.086291</td>\n",
              "      <td>0.066977</td>\n",
              "      <td>0.064450</td>\n",
              "      <td>0.028824</td>\n",
              "      <td>-0.032559</td>\n",
              "      <td>-0.190401</td>\n",
              "      <td>-0.353385</td>\n",
              "      <td>-0.027045</td>\n",
              "      <td>0.009861</td>\n",
              "      <td>0.004212</td>\n",
              "      <td>-0.004212</td>\n",
              "      <td>0.217207</td>\n",
              "      <td>-0.217207</td>\n",
              "      <td>0.000873</td>\n",
              "      <td>-0.000873</td>\n",
              "      <td>-0.035977</td>\n",
              "      <td>-0.083583</td>\n",
              "      <td>1.000000</td>\n",
              "      <td>-0.118282</td>\n",
              "      <td>-0.247733</td>\n",
              "    </tr>\n",
              "    <tr>\n",
              "      <th>menstrual_flag_luteal</th>\n",
              "      <td>0.162144</td>\n",
              "      <td>-0.002437</td>\n",
              "      <td>-0.054722</td>\n",
              "      <td>-0.022312</td>\n",
              "      <td>-0.116473</td>\n",
              "      <td>-0.025261</td>\n",
              "      <td>0.126933</td>\n",
              "      <td>-0.289919</td>\n",
              "      <td>-0.134771</td>\n",
              "      <td>-0.273975</td>\n",
              "      <td>0.007836</td>\n",
              "      <td>-0.107619</td>\n",
              "      <td>0.107619</td>\n",
              "      <td>0.376286</td>\n",
              "      <td>-0.376286</td>\n",
              "      <td>-0.000784</td>\n",
              "      <td>0.000784</td>\n",
              "      <td>-0.091102</td>\n",
              "      <td>-0.211652</td>\n",
              "      <td>-0.118282</td>\n",
              "      <td>1.000000</td>\n",
              "      <td>-0.627319</td>\n",
              "    </tr>\n",
              "    <tr>\n",
              "      <th>menstrual_flag_male</th>\n",
              "      <td>-0.280449</td>\n",
              "      <td>0.011994</td>\n",
              "      <td>-0.064524</td>\n",
              "      <td>-0.047636</td>\n",
              "      <td>0.027889</td>\n",
              "      <td>-0.007938</td>\n",
              "      <td>-0.166204</td>\n",
              "      <td>0.473877</td>\n",
              "      <td>0.402519</td>\n",
              "      <td>0.358712</td>\n",
              "      <td>-0.044255</td>\n",
              "      <td>0.064213</td>\n",
              "      <td>-0.064213</td>\n",
              "      <td>-0.729081</td>\n",
              "      <td>0.729081</td>\n",
              "      <td>-0.000034</td>\n",
              "      <td>0.000034</td>\n",
              "      <td>-0.190805</td>\n",
              "      <td>-0.443289</td>\n",
              "      <td>-0.247733</td>\n",
              "      <td>-0.627319</td>\n",
              "      <td>1.000000</td>\n",
              "    </tr>\n",
              "  </tbody>\n",
              "</table>\n",
              "</div>"
            ],
            "text/plain": [
              "                                                    heartRateAvg  ...  menstrual_flag_male\n",
              "heartRateAvg                                            1.000000  ...            -0.280449\n",
              "stepRate                                                0.411438  ...             0.011994\n",
              "skinRH109                                              -0.267795  ...            -0.064524\n",
              "skinTemp109                                            -0.245731  ...            -0.047636\n",
              "ambientRH110                                            0.105807  ...             0.027889\n",
              "ambientTemp110                                         -0.153193  ...            -0.007938\n",
              "Tc                                                      0.563350  ...            -0.166204\n",
              "Age                                                    -0.037560  ...             0.473877\n",
              "Height                                                 -0.106908  ...             0.402519\n",
              "Weight                                                  0.094687  ...             0.358712\n",
              "hour                                                    0.334916  ...            -0.044255\n",
              "signalQ1_0                                             -0.114358  ...             0.064213\n",
              "signalQ1_1                                              0.114358  ...            -0.064213\n",
              "Sex_Female                                              0.234595  ...            -0.729081\n",
              "Sex_Male                                               -0.234595  ...             0.729081\n",
              "activity_flag_0                                        -0.004484  ...            -0.000034\n",
              "activity_flag_1                                         0.004484  ...             0.000034\n",
              "menstrual_flag_Mid-luteal? (Day 19 of 40)\\r\\nDy...      0.118205  ...            -0.190805\n",
              "menstrual_flag_follicular                               0.110342  ...            -0.443289\n",
              "menstrual_flag_irregular                                0.069622  ...            -0.247733\n",
              "menstrual_flag_luteal                                   0.162144  ...            -0.627319\n",
              "menstrual_flag_male                                    -0.280449  ...             1.000000\n",
              "\n",
              "[22 rows x 22 columns]"
            ]
          },
          "metadata": {
            "tags": []
          },
          "execution_count": 41
        }
      ]
    },
    {
      "cell_type": "code",
      "metadata": {
        "colab": {
          "base_uri": "https://localhost:8080/",
          "height": 1000
        },
        "id": "080safx7uT5N",
        "outputId": "f2351720-db32-4b02-bc49-9e102e7c1fb4"
      },
      "source": [
        "col=final_df.columns\r\n",
        "corr=final_df.corr()\r\n",
        "plt.figure(figsize = (18,18))\r\n",
        "sns.set(font_scale=1)\r\n",
        "sns.heatmap(corr, cbar = True, annot=True, square = True, fmt = '.2f', xticklabels=col, yticklabels=col)\r\n",
        "plt.show();"
      ],
      "execution_count": null,
      "outputs": [
        {
          "output_type": "display_data",
          "data": {
            "image/png": "[encoded data removed]",
            "text/plain": [
              "<Figure size 1296x1296 with 2 Axes>"
            ]
          },
          "metadata": {
            "tags": [],
            "needs_background": "light"
          }
        }
      ]
    },
    {
      "cell_type": "markdown",
      "metadata": {
        "id": "IU_nZHNOuwRB"
      },
      "source": [
        "# Checking for Multicollinearity"
      ]
    },
    {
      "cell_type": "code",
      "metadata": {
        "colab": {
          "base_uri": "https://localhost:8080/"
        },
        "id": "5JE1F9nyuT7Y",
        "outputId": "8ce7beb1-7975-4afa-cee3-03d419935d9d"
      },
      "source": [
        "def get_redundant_pairs(df):\r\n",
        "    '''Get diagonal and lower triangular pairs of correlation matrix'''\r\n",
        "    pairs_to_drop = set()\r\n",
        "    cols = df.columns\r\n",
        "    for i in range(0, df.shape[1]):\r\n",
        "        for j in range(0, i+1):\r\n",
        "            pairs_to_drop.add((cols[i], cols[j]))\r\n",
        "    return pairs_to_drop\r\n",
        "\r\n",
        "# Function to get top correlations \r\n",
        "\r\n",
        "def get_top_abs_correlations(df, n=5):\r\n",
        "    au_corr = df.corr().abs().unstack()\r\n",
        "    labels_to_drop = get_redundant_pairs(df)\r\n",
        "    au_corr = au_corr.drop(labels=labels_to_drop).sort_values(ascending=False)\r\n",
        "    return au_corr[0:n]\r\n",
        "\r\n",
        "print(\"Top Absolute Correlations\")\r\n",
        "print(get_top_abs_correlations(final_df, 20))"
      ],
      "execution_count": null,
      "outputs": [
        {
          "output_type": "stream",
          "text": [
            "Top Absolute Correlations\n",
            "activity_flag_0            activity_flag_1              1.000000\n",
            "Sex_Female                 Sex_Male                     1.000000\n",
            "signalQ1_0                 signalQ1_1                   1.000000\n",
            "skinTemp109                ambientTemp110               0.956662\n",
            "Sex_Male                   menstrual_flag_male          0.729877\n",
            "Sex_Female                 menstrual_flag_male          0.729877\n",
            "menstrual_flag_luteal      menstrual_flag_male          0.625868\n",
            "Age                        Sex_Female                   0.593108\n",
            "                           Sex_Male                     0.593108\n",
            "Height                     Weight                       0.580489\n",
            "heartRateAvg               Tc                           0.527338\n",
            "Age                        menstrual_flag_male          0.478988\n",
            "Tc                         hour                         0.447313\n",
            "menstrual_flag_follicular  menstrual_flag_male          0.442607\n",
            "Age                        Weight                       0.418333\n",
            "Height                     menstrual_flag_male          0.398745\n",
            "Sex_Female                 menstrual_flag_follicular    0.388910\n",
            "Sex_Male                   menstrual_flag_follicular    0.388910\n",
            "heartRateAvg               stepRate                     0.388778\n",
            "Sex_Female                 menstrual_flag_luteal        0.375134\n",
            "dtype: float64\n"
          ],
          "name": "stdout"
        }
      ]
    },
    {
      "cell_type": "markdown",
      "metadata": {
        "id": "msN-gzVx2wU1"
      },
      "source": [
        "Skin temperature and Ambient Temperature are highly corelatted.\r\n",
        "So, I have removed Ambient temperature."
      ]
    },
    {
      "cell_type": "code",
      "metadata": {
        "id": "NOONclxN3FA3"
      },
      "source": [
        "final=final.drop(columns=['ambientTemp110'],axis=1)"
      ],
      "execution_count": 24,
      "outputs": []
    },
    {
      "cell_type": "markdown",
      "metadata": {
        "id": "8ajRv9iSvokR"
      },
      "source": [
        "#Checking Correlation with Core Temperature:\r\n",
        "\r\n",
        "Heart rate avg has high corelation with Temperature.\r\n",
        "\r\n",
        "Age is negatively correlated and menstrual phase luteal and follicular has notable postive correlation."
      ]
    },
    {
      "cell_type": "code",
      "metadata": {
        "colab": {
          "base_uri": "https://localhost:8080/"
        },
        "id": "Ait_Gm-suUAE",
        "outputId": "90c5ecda-5b2e-46be-cf84-afe1c8ed6c84"
      },
      "source": [
        "final_df[final_df.columns[:]].corr()['Tc'][:]"
      ],
      "execution_count": null,
      "outputs": [
        {
          "output_type": "execute_result",
          "data": {
            "text/plain": [
              "heartRateAvg                                                                                                                          0.527338\n",
              "stepRate                                                                                                                              0.271620\n",
              "skinRH109                                                                                                                            -0.317028\n",
              "skinTemp109                                                                                                                          -0.189277\n",
              "ambientRH110                                                                                                                          0.035151\n",
              "Tc                                                                                                                                    1.000000\n",
              "Age                                                                                                                                  -0.174477\n",
              "Height                                                                                                                                0.001792\n",
              "Weight                                                                                                                               -0.077365\n",
              "hour                                                                                                                                  0.447313\n",
              "signalQ1_0                                                                                                                           -0.085008\n",
              "signalQ1_1                                                                                                                            0.085008\n",
              "Sex_Female                                                                                                                            0.270227\n",
              "Sex_Male                                                                                                                             -0.270227\n",
              "activity_flag_0                                                                                                                      -0.002833\n",
              "activity_flag_1                                                                                                                       0.002833\n",
              "menstrual_flag_Mid-luteal? (Day 19 of 40)\\r\\nDysmenorrhea and Premenstural Symdrone (PMS). \\r\\nParticipant has irregular periods.     0.003601\n",
              "menstrual_flag_follicular                                                                                                             0.126349\n",
              "menstrual_flag_irregular                                                                                                             -0.027616\n",
              "menstrual_flag_luteal                                                                                                                 0.149206\n",
              "menstrual_flag_male                                                                                                                  -0.202684\n",
              "Name: Tc, dtype: float64"
            ]
          },
          "metadata": {
            "tags": []
          },
          "execution_count": 50
        }
      ]
    },
    {
      "cell_type": "markdown",
      "metadata": {
        "id": "hBt4wf7y2sZP"
      },
      "source": [
        "# Sampling:\r\n",
        "\r\n",
        "The data set is having ~2.7 million records. I tried to run but the compiler got crashed each time. So, I have taken 100,000 samples to train my model."
      ]
    },
    {
      "cell_type": "code",
      "metadata": {
        "id": "vmBQTJpjJ1gK"
      },
      "source": [
        "final_df=final.sample(50000)"
      ],
      "execution_count": null,
      "outputs": []
    },
    {
      "cell_type": "markdown",
      "metadata": {
        "id": "RVadCvlq2nKD"
      },
      "source": [
        "X and Y Split"
      ]
    },
    {
      "cell_type": "code",
      "metadata": {
        "id": "Y6lI-PP2uUC4"
      },
      "source": [
        "y=final_df[['Tc']]\r\n",
        "x=final_df.drop(['Tc'],axis=1)"
      ],
      "execution_count": null,
      "outputs": []
    },
    {
      "cell_type": "markdown",
      "metadata": {
        "id": "_gNpbmUk3vz1"
      },
      "source": [
        "Test-Train Split:\r\n",
        "\r\n",
        "Train 70% = 70,000\r\n",
        "\r\n",
        "Test 30% = 30,000"
      ]
    },
    {
      "cell_type": "code",
      "metadata": {
        "id": "25Qq4ST-uUH1"
      },
      "source": [
        "# Train/Test Split 70/30\r\n",
        "from sklearn.model_selection import train_test_split\r\n",
        "X_train, X_test, y_train, y_test = train_test_split(x, y, test_size=0.3, random_state=42)"
      ],
      "execution_count": null,
      "outputs": []
    },
    {
      "cell_type": "markdown",
      "metadata": {
        "id": "_Ed4Jd5y4I0Z"
      },
      "source": [
        "# Modelling"
      ]
    },
    {
      "cell_type": "markdown",
      "metadata": {
        "id": "fgyAv5cm4Mdk"
      },
      "source": [
        "1. Polynomial Regression - Default Parameters¶\r\n",
        "\r\n",
        "Default model - The default Polynomial Regression model is evaluated with 5 fold cross validation on train set. The model is then fit on the train data and predictions are performed on test data. RMSE and MAE using default model on test data are reported.\r\n"
      ]
    },
    {
      "cell_type": "code",
      "metadata": {
        "id": "7ByS_1BAg4q9"
      },
      "source": [
        "from sklearn.preprocessing import PolynomialFeatures\r\n",
        "from sklearn.metrics import mean_squared_error, r2_score, mean_absolute_error\r\n",
        "from sklearn.linear_model import LinearRegression\r\n",
        "from sklearn.pipeline import Pipeline\r\n",
        "from sklearn.model_selection import cross_val_score"
      ],
      "execution_count": 31,
      "outputs": []
    },
    {
      "cell_type": "code",
      "metadata": {
        "colab": {
          "base_uri": "https://localhost:8080/"
        },
        "id": "j2UsIKDl3y97",
        "outputId": "7a810c27-1ce6-4596-ac77-b8bd7d1e42f0"
      },
      "source": [
        "\r\n",
        "steps = [('poly',PolynomialFeatures()), ('linear',LinearRegression())]\r\n",
        "pipeline = Pipeline(steps)\r\n",
        "\r\n",
        "# evaluate default model with 5 fold cross validation on train set\r\n",
        "scores = cross_val_score(pipeline,X_train,y_train, cv=5, scoring='neg_root_mean_squared_error')\r\n",
        "mean_score = abs(np.mean(scores))\r\n",
        "\r\n",
        "#fit model on entire train set and predict on test set\r\n",
        "pipeline.fit(X_train,y_train)\r\n",
        "y_pred_def = pipeline.predict(X_test)\r\n",
        "\r\n",
        "# evaluate predictions made on test set\r\n",
        "def_rmse = mean_squared_error(y_test, y_pred_def)\r\n",
        "def_rmse = np.sqrt(def_rmse)\r\n",
        "def_MAE=mean_absolute_error(y_test, y_pred_def)\r\n",
        "def_r2 = r2_score(y_test,y_pred_def)\r\n",
        "\r\n",
        "print('Polynomial Regression (default parameters) mean cross validated RMSE on train set: ' + str(round(mean_score,2)))\r\n",
        "print()\r\n",
        "print(\"Polynomial Regression (default parameters) R2 score on test set: \" + str(round(def_r2,1)))\r\n",
        "print()\r\n",
        "print(\"Polynomial Regression (default parameters) RMSE on test set: \" + str(round(def_rmse,2)))\r\n",
        "print()\r\n",
        "print(\"Polynomial Regression (default parameters) MAE on test set: \" + str(round(def_MAE,2)))"
      ],
      "execution_count": null,
      "outputs": [
        {
          "output_type": "stream",
          "text": [
            "Polynomial Regression (default parameters) mean cross validated RMSE on train set: 0.25\n",
            "\n",
            "Polynomial Regression (default parameters) R2 score on test set: 0.6\n",
            "\n",
            "Polynomial Regression (default parameters) RMSE on test set: 0.25\n",
            "\n",
            "Polynomial Regression (default parameters) MAE on test set: 0.19\n"
          ],
          "name": "stdout"
        }
      ]
    },
    {
      "cell_type": "markdown",
      "metadata": {
        "id": "fa5J9D5uLavb"
      },
      "source": [
        "\r\n",
        "Polynomial Regression - Hyperparameter Optimization\r\n",
        "\r\n",
        "we optimize the parameters of the model using 5 cross validation. An extensive parameter search is performed using several grid searches. 'neg_root_mean_squared_error' is used as scoring function during grid search. The 'best estimator' model obtained after grid searches with 5 fold cross validation is finally used to perform predictions on the test set.\r\n"
      ]
    },
    {
      "cell_type": "code",
      "metadata": {
        "colab": {
          "base_uri": "https://localhost:8080/"
        },
        "id": "DK4Pb-_I3y_6",
        "outputId": "51a2e3bb-e4c2-4bd0-fa66-c47242408777"
      },
      "source": [
        "from sklearn.model_selection import GridSearchCV\r\n",
        "\r\n",
        "steps = [('poly',PolynomialFeatures()), ('linear',LinearRegression())]\r\n",
        "pipeline = Pipeline(steps)\r\n",
        "\r\n",
        "parameters = {'poly__degree':[2,3],'linear__normalize': [True, False]}\r\n",
        "grid_poly = GridSearchCV(pipeline,param_grid=parameters,cv=5, scoring='neg_root_mean_squared_error')\r\n",
        "grid_poly.fit(X_train,y_train)              \r\n",
        "print('Best Parameters with grid search:') \r\n",
        "print(grid_poly.best_params_)  \r\n",
        "\r\n",
        "poly_rmse = abs(grid_poly.best_score_)\r\n",
        "best_std = grid_poly.cv_results_['std_test_score'][grid_poly.best_index_]\r\n",
        "print('Mean cross validated RMSE with best estimator: '+ str(round(poly_rmse,2)) + ', Standard deviation: ' + str(round(best_std,2)))"
      ],
      "execution_count": null,
      "outputs": [
        {
          "output_type": "stream",
          "text": [
            "Best Parameters with grid search:\n",
            "{'linear__normalize': False, 'poly__degree': 2}\n",
            "Mean cross validated RMSE with best estimator: 0.25, Standard deviation: 0.0\n"
          ],
          "name": "stdout"
        }
      ]
    },
    {
      "cell_type": "code",
      "metadata": {
        "colab": {
          "base_uri": "https://localhost:8080/"
        },
        "id": "7kFkWvvHLkbn",
        "outputId": "a0df0c35-db44-45c5-d714-aec0a37af424"
      },
      "source": [
        "#predict using model with tuned hyperparameters\r\n",
        "y_pred_tuned = grid_poly.predict(X_test)\r\n",
        "poly_tuned_r2 = r2_score(y_test,y_pred_tuned)\r\n",
        "poly_tuned_rmse = mean_squared_error(y_test, y_pred_tuned)\r\n",
        "poly_tuned_rmse = np.sqrt(poly_tuned_rmse)\r\n",
        "poly_tuned_MAE =mean_absolute_error(y_test, y_pred_tuned)\r\n",
        "print('R2 score using tuned Polynomial Regression: ' + str(round(poly_tuned_r2,1)))\r\n",
        "print()\r\n",
        "print('RMSE using tuned Polynomial Regression on test set: ' + str(round(poly_tuned_rmse,2)))\r\n",
        "print()\r\n",
        "print('MAE using tuned Polynomial Regression on test set: ' + str(round(poly_tuned_MAE,2)))"
      ],
      "execution_count": null,
      "outputs": [
        {
          "output_type": "stream",
          "text": [
            "R2 score using tuned Polynomial Regression: 0.6\n",
            "\n",
            "RMSE using tuned Polynomial Regression on test set: 0.25\n",
            "\n",
            "MAE using tuned Polynomial Regression on test set: 0.19\n"
          ],
          "name": "stdout"
        }
      ]
    },
    {
      "cell_type": "code",
      "metadata": {
        "colab": {
          "base_uri": "https://localhost:8080/"
        },
        "id": "x3X3oCvVMYjl",
        "outputId": "2618b19d-badf-466f-8a58-61742ab6ad78"
      },
      "source": [
        "#final summary\r\n",
        "print('Summarizing: ')\r\n",
        "print()\r\n",
        "print(\"Polynomial Regression (default parameters) RMSE on test set: \" + str(round(def_rmse,2)))\r\n",
        "print()\r\n",
        "print('Polynomial Regression (tuned parameters) RMSE on test set: ' + str(round(poly_tuned_rmse,2)))\r\n",
        "print()\r\n",
        "print(\"Polynomial Regression (default parameters) MAE on test set: \" + str(round(def_MAE,2)))\r\n",
        "print()\r\n",
        "print('Polynomial Regression (tuned parameters) MAE on test set: ' + str(round(poly_tuned_MAE,2)))"
      ],
      "execution_count": null,
      "outputs": [
        {
          "output_type": "stream",
          "text": [
            "Summarizing: \n",
            "\n",
            "Polynomial Regression (default parameters) RMSE on test set: 0.25\n",
            "\n",
            "Polynomial Regression (tuned parameters) RMSE on test set: 0.25\n",
            "\n",
            "Polynomial Regression (default parameters) MAE on test set: 0.19\n",
            "\n",
            "Polynomial Regression (tuned parameters) MAE on test set: 0.19\n"
          ],
          "name": "stdout"
        }
      ]
    },
    {
      "cell_type": "markdown",
      "metadata": {
        "id": "0NwMqsLtMck1"
      },
      "source": [
        "\r\n",
        "2. Support Vector Machine - Default parameters\r\n",
        "\r\n",
        "The default Support Vector Regressor model is evaluated with 5 fold cross validation on train set. The model is then fit on the entire train data and predictions are performed on test data. RMSE and MAE using default model on test data are reported.\r\n"
      ]
    },
    {
      "cell_type": "code",
      "metadata": {
        "colab": {
          "base_uri": "https://localhost:8080/"
        },
        "id": "lQxp5BvOMlvv",
        "outputId": "cec96d74-1b80-4fd9-c443-1652ac6a3fc1"
      },
      "source": [
        "#evaluate svr with default parameters on test set\r\n",
        "from sklearn.svm import SVR\r\n",
        "from sklearn.preprocessing import RobustScaler,PowerTransformer\r\n",
        "from sklearn.pipeline import Pipeline\r\n",
        "from sklearn.model_selection import cross_val_score\r\n",
        "\r\n",
        "steps = [('SVR', SVR())]\r\n",
        "pipeline = Pipeline(steps)\r\n",
        "\r\n",
        "# evaluate default model with 5 fold cross validation on train set\r\n",
        "scores = cross_val_score(pipeline,X_train,y_train, cv=5, scoring='neg_root_mean_squared_error')\r\n",
        "mean_score = abs(np.mean(scores))\r\n",
        "\r\n",
        "#fit model on entire train set and predict on test set\r\n",
        "pipeline.fit(X_train,y_train)\r\n",
        "y_pred_def = pipeline.predict(X_test)\r\n",
        "\r\n",
        "# evaluate predictions made on test set\r\n",
        "svr_def_r2 = r2_score(y_test,y_pred_def)\r\n",
        "svr_def_rmse = np.sqrt(mean_squared_error(y_test, y_pred_def))\r\n",
        "\r\n",
        "print('SVR (default parameters) mean cross validated RMSE on train set: ' + str(round(mean_score,2)))\r\n",
        "print()\r\n",
        "print('SVR (default parameters) R2 score on test set: ' + str(round(svr_def_r2,1)))\r\n",
        "print()\r\n",
        "print('SVR (default parameters) RMSE score on test set: ' + str(round(svr_def_rmse,2)))\r\n"
      ],
      "execution_count": null,
      "outputs": [
        {
          "output_type": "stream",
          "text": [
            "SVR (default parameters) mean cross validated RMSE on train set: 0.29\n",
            "\n",
            "SVR (default parameters) R2 score on test set: 0.5\n",
            "\n",
            "SVR (default parameters) RMSE score on test set: 0.29\n"
          ],
          "name": "stdout"
        }
      ]
    },
    {
      "cell_type": "code",
      "metadata": {
        "colab": {
          "base_uri": "https://localhost:8080/"
        },
        "id": "iIBGewU01yUe",
        "outputId": "b6e67c91-8a71-42e1-aa02-0b6cd3520d91"
      },
      "source": [
        "svr_def_MAE = mean_absolute_error(y_test, y_pred_def)\r\n",
        "print()\r\n",
        "print('SVR (default parameters) MAE score on test set: ' + str(round(svr_def_MAE,2)))"
      ],
      "execution_count": null,
      "outputs": [
        {
          "output_type": "stream",
          "text": [
            "\n",
            "SVR (default parameters) MAE score on test set: 0.19\n"
          ],
          "name": "stdout"
        }
      ]
    },
    {
      "cell_type": "markdown",
      "metadata": {
        "id": "AwNUbh5qS02k"
      },
      "source": [
        "\r\n",
        "3. XGBoost - Default parameters\r\n",
        "\r\n",
        "The default XGBoost model is evaluated with 5 fold cross validation on train set. The model is then fit on the train data and predictions are performed on test data. RMSE and MAE using default model on test data is reported.\r\n"
      ]
    },
    {
      "cell_type": "code",
      "metadata": {
        "colab": {
          "base_uri": "https://localhost:8080/"
        },
        "id": "KYfnqYzFM0yS",
        "outputId": "b6372ed4-e4da-4bba-f035-db65ec5a181e"
      },
      "source": [
        "import xgboost as xgb\r\n",
        "from xgboost import XGBRegressor\r\n",
        "from sklearn.model_selection import cross_val_score\r\n",
        "\r\n",
        "#build xgboost model\r\n",
        "model = XGBRegressor(seed=123,objective=\"reg:linear\",verbosity = 0)\r\n",
        "\r\n",
        "# evaluate default model with 5 fold cross validation on train set\r\n",
        "scores = cross_val_score(model,X_train,y_train, cv=5, scoring='neg_root_mean_squared_error')\r\n",
        "mean_score = abs(np.mean(scores))\r\n",
        "\r\n",
        "#fit model on entire train set and predict on test set\r\n",
        "model.fit(X_train, y_train)\r\n",
        "y_pred = model.predict(X_test)\r\n",
        "\r\n",
        "# evaluate predictions made on test set\r\n",
        "xg_def_rmse = np.sqrt(mean_squared_error(y_test, y_pred))\r\n",
        "xg_def_MAE= mean_absolute_error(y_test, y_pred)\r\n",
        "\r\n",
        "print('XGBoost (default parameters) mean cross validated RMSE on train set: ' + str(round(mean_score,2)))\r\n",
        "print()\r\n",
        "print(\"XGBoost (default parameters) RMSE on test set: \" + str(round(xg_def_rmse,2)))\r\n",
        "print()\r\n",
        "print(\"XGBoost (default parameters) MAE on test set: \" + str(round(xg_def_MAE,2)))"
      ],
      "execution_count": null,
      "outputs": [
        {
          "output_type": "stream",
          "text": [
            "XGBoost (default parameters) mean cross validated RMSE on train set: 0.23\n",
            "\n",
            "XGBoost (default parameters) RMSE on test set: 0.24\n",
            "\n",
            "XGBoost (default parameters) MAE on test set: 0.18\n"
          ],
          "name": "stdout"
        }
      ]
    },
    {
      "cell_type": "markdown",
      "metadata": {
        "id": "Sofoyml_2Rsq"
      },
      "source": [
        "Hyperparameter Tuning:\r\n",
        "\r\n",
        "Tuned model - we optimize the parameters of the model using 5 cross validation. An extensive parameter search is performed using several grid searches. 'neg_root_mean_squared_error' is used as scoring function during grid search. The 'best estimator' model obtained after grid searches with 5 fold cross validation is finally used to perform predictions on the test set. "
      ]
    },
    {
      "cell_type": "code",
      "metadata": {
        "colab": {
          "base_uri": "https://localhost:8080/"
        },
        "id": "AuxyW7brM01t",
        "outputId": "80c2d724-9017-49ba-ea3d-0f912df8c31e"
      },
      "source": [
        "\r\n",
        "from sklearn.pipeline import Pipeline\r\n",
        "from sklearn.model_selection import GridSearchCV\r\n",
        "\r\n",
        "steps = [('XGB',XGBRegressor(objective=\"reg:linear\",verbosity = 0) )]\r\n",
        "pipeline = Pipeline(steps)\r\n",
        "\r\n",
        "#define hyperparameters to tune\r\n",
        "parameters = {'XGB__colsample_bytree': [0.9,1.0],'XGB__subsample': [0.9,1.0],\r\n",
        "                'XGB__max_depth': [10,11], 'XGB__eta':[0.05,0.1], 'XGB__min_child_weight':[2,4] }\r\n",
        "\r\n",
        "#perform grid search using cross validation\r\n",
        "grid1_xg = GridSearchCV(pipeline, param_grid=parameters, cv=5,scoring='neg_root_mean_squared_error')\r\n",
        "grid1_xg.fit(X_train, y_train)\r\n",
        "print('Best Parameters with grid1:') \r\n",
        "print(grid1_xg.best_params_)\r\n",
        "print()\r\n",
        "grid1_rmse = abs(grid1_xg.best_score_)\r\n",
        "best_std = grid1_xg.cv_results_['std_test_score'][grid1_xg.best_index_]\r\n",
        "print('Mean cross validated RMSE with best estimator grid1: '+ str(round(grid1_rmse,2)) + ', Standard deviation: ' + str(round(best_std,2)))"
      ],
      "execution_count": null,
      "outputs": [
        {
          "output_type": "stream",
          "text": [
            "Best Parameters with grid1:\n",
            "{'XGB__colsample_bytree': 0.9, 'XGB__eta': 0.05, 'XGB__max_depth': 11, 'XGB__min_child_weight': 2, 'XGB__subsample': 0.9}\n",
            "\n",
            "Mean cross validated RMSE with best estimator grid1: 0.09, Standard deviation: 0.0\n"
          ],
          "name": "stdout"
        }
      ]
    },
    {
      "cell_type": "markdown",
      "metadata": {
        "id": "vKCgz_d_2YWe"
      },
      "source": [
        "# Feature importance"
      ]
    },
    {
      "cell_type": "code",
      "metadata": {
        "colab": {
          "base_uri": "https://localhost:8080/",
          "height": 520
        },
        "id": "3WD5M4UgTKL-",
        "outputId": "a3927686-296e-4067-bc63-2bcdb7cd12d5"
      },
      "source": [
        "#plot feature importances of best estimator\r\n",
        "from xgboost import plot_importance\r\n",
        "reg = grid1_xg.best_estimator_['XGB']\r\n",
        "xg_model = reg.fit(X_train,y_train)\r\n",
        "fig, ax = plt.subplots(figsize=(10,8))\r\n",
        "plot_importance(xg_model,height=0.6,grid=False,ylabel='', ax=ax)\r\n",
        "plt.title(\"Feature importance\", fontsize=18)\r\n",
        "plt.xlabel(\"F score\", fontsize=12);\r\n",
        "#The measures are based on the number of times a variable is selected for splitting"
      ],
      "execution_count": null,
      "outputs": [
        {
          "output_type": "display_data",
          "data": {
            "image/png": "[encoded data removed]",
            "text/plain": [
              "<Figure size 720x576 with 1 Axes>"
            ]
          },
          "metadata": {
            "tags": [],
            "needs_background": "light"
          }
        }
      ]
    },
    {
      "cell_type": "code",
      "metadata": {
        "colab": {
          "base_uri": "https://localhost:8080/"
        },
        "id": "dOX8aJHUmZxq",
        "outputId": "f6c30053-43af-4d5a-dbaf-783f378d48f6"
      },
      "source": [
        "final.columns"
      ],
      "execution_count": null,
      "outputs": [
        {
          "output_type": "execute_result",
          "data": {
            "text/plain": [
              "Index(['heartRateAvg', 'stepRate', 'skinRH109', 'skinTemp109', 'ambientRH110',\n",
              "       'Tc', 'Age', 'Height', 'Weight', 'hour', 'signalQ1_0', 'signalQ1_1',\n",
              "       'Sex_Female', 'Sex_Male', 'activity_flag_0', 'activity_flag_1',\n",
              "       'menstrual_flag_Mid-luteal? (Day 19 of 40)\\r\\nDysmenorrhea and Premenstural Symdrone (PMS). \\r\\nParticipant has irregular periods. ',\n",
              "       'menstrual_flag_follicular', 'menstrual_flag_irregular',\n",
              "       'menstrual_flag_luteal', 'menstrual_flag_male'],\n",
              "      dtype='object')"
            ]
          },
          "metadata": {
            "tags": []
          },
          "execution_count": 53
        }
      ]
    },
    {
      "cell_type": "code",
      "metadata": {
        "id": "rCM-gEINmIjn"
      },
      "source": [
        "final_df_1=final.drop(columns=['signalQ1_0', 'signalQ1_1',\r\n",
        "       'Sex_Female', 'Sex_Male', 'activity_flag_0', 'activity_flag_1',\r\n",
        "       'menstrual_flag_Mid-luteal? (Day 19 of 40)\\r\\nDysmenorrhea and Premenstural Symdrone (PMS). \\r\\nParticipant has irregular periods. ',\r\n",
        "       'menstrual_flag_follicular', 'menstrual_flag_irregular',\r\n",
        "       'menstrual_flag_luteal', 'menstrual_flag_male','Height', 'Weight'],axis=1)"
      ],
      "execution_count": 25,
      "outputs": []
    },
    {
      "cell_type": "code",
      "metadata": {
        "colab": {
          "base_uri": "https://localhost:8080/"
        },
        "id": "RYL9SkuioBjk",
        "outputId": "3c57e1e4-64fe-41bc-f16a-d11070954b0b"
      },
      "source": [
        "final_df_1.columns"
      ],
      "execution_count": 26,
      "outputs": [
        {
          "output_type": "execute_result",
          "data": {
            "text/plain": [
              "Index(['heartRateAvg', 'stepRate', 'skinRH109', 'skinTemp109', 'ambientRH110',\n",
              "       'Tc', 'Age', 'hour'],\n",
              "      dtype='object')"
            ]
          },
          "metadata": {
            "tags": []
          },
          "execution_count": 26
        }
      ]
    },
    {
      "cell_type": "code",
      "metadata": {
        "id": "DCeUKOaNqUJP"
      },
      "source": [
        "final_df_1=final_df_1.sample(50000)"
      ],
      "execution_count": 27,
      "outputs": []
    },
    {
      "cell_type": "code",
      "metadata": {
        "id": "WW-RFtFdqUPp"
      },
      "source": [
        "y=final_df_1[['Tc']]\r\n",
        "x=final_df_1.drop(['Tc'],axis=1)"
      ],
      "execution_count": 28,
      "outputs": []
    },
    {
      "cell_type": "code",
      "metadata": {
        "colab": {
          "base_uri": "https://localhost:8080/",
          "height": 206
        },
        "id": "fsLhaaEb0xUp",
        "outputId": "fbe3e5e2-01f2-4540-9035-065f1e7cf647"
      },
      "source": [
        "x.head()"
      ],
      "execution_count": null,
      "outputs": [
        {
          "output_type": "execute_result",
          "data": {
            "text/html": [
              "<div>\n",
              "<style scoped>\n",
              "    .dataframe tbody tr th:only-of-type {\n",
              "        vertical-align: middle;\n",
              "    }\n",
              "\n",
              "    .dataframe tbody tr th {\n",
              "        vertical-align: top;\n",
              "    }\n",
              "\n",
              "    .dataframe thead th {\n",
              "        text-align: right;\n",
              "    }\n",
              "</style>\n",
              "<table border=\"1\" class=\"dataframe\">\n",
              "  <thead>\n",
              "    <tr style=\"text-align: right;\">\n",
              "      <th></th>\n",
              "      <th>heartRateAvg</th>\n",
              "      <th>stepRate</th>\n",
              "      <th>skinRH109</th>\n",
              "      <th>skinTemp109</th>\n",
              "      <th>ambientRH110</th>\n",
              "      <th>Age</th>\n",
              "      <th>hour</th>\n",
              "    </tr>\n",
              "  </thead>\n",
              "  <tbody>\n",
              "    <tr>\n",
              "      <th>1299718</th>\n",
              "      <td>44.14</td>\n",
              "      <td>0</td>\n",
              "      <td>64.270</td>\n",
              "      <td>34.8400</td>\n",
              "      <td>77.350</td>\n",
              "      <td>23</td>\n",
              "      <td>4</td>\n",
              "    </tr>\n",
              "    <tr>\n",
              "      <th>1168259</th>\n",
              "      <td>62.35</td>\n",
              "      <td>92</td>\n",
              "      <td>41.185</td>\n",
              "      <td>29.7050</td>\n",
              "      <td>55.730</td>\n",
              "      <td>23</td>\n",
              "      <td>21</td>\n",
              "    </tr>\n",
              "    <tr>\n",
              "      <th>2266762</th>\n",
              "      <td>69.77</td>\n",
              "      <td>104</td>\n",
              "      <td>29.995</td>\n",
              "      <td>28.7075</td>\n",
              "      <td>53.990</td>\n",
              "      <td>38</td>\n",
              "      <td>14</td>\n",
              "    </tr>\n",
              "    <tr>\n",
              "      <th>541221</th>\n",
              "      <td>63.71</td>\n",
              "      <td>0</td>\n",
              "      <td>35.154</td>\n",
              "      <td>33.7040</td>\n",
              "      <td>56.308</td>\n",
              "      <td>26</td>\n",
              "      <td>14</td>\n",
              "    </tr>\n",
              "    <tr>\n",
              "      <th>1650638</th>\n",
              "      <td>44.84</td>\n",
              "      <td>0</td>\n",
              "      <td>39.482</td>\n",
              "      <td>35.1100</td>\n",
              "      <td>67.126</td>\n",
              "      <td>24</td>\n",
              "      <td>6</td>\n",
              "    </tr>\n",
              "  </tbody>\n",
              "</table>\n",
              "</div>"
            ],
            "text/plain": [
              "         heartRateAvg  stepRate  skinRH109  ...  ambientRH110  Age  hour\n",
              "1299718         44.14         0     64.270  ...        77.350   23     4\n",
              "1168259         62.35        92     41.185  ...        55.730   23    21\n",
              "2266762         69.77       104     29.995  ...        53.990   38    14\n",
              "541221          63.71         0     35.154  ...        56.308   26    14\n",
              "1650638         44.84         0     39.482  ...        67.126   24     6\n",
              "\n",
              "[5 rows x 7 columns]"
            ]
          },
          "metadata": {
            "tags": []
          },
          "execution_count": 63
        }
      ]
    },
    {
      "cell_type": "code",
      "metadata": {
        "id": "PHJ8tOmJqUSI"
      },
      "source": [
        "# Train/Test Split 70/30\r\n",
        "from sklearn.model_selection import train_test_split\r\n",
        "X_train, X_test, y_train, y_test = train_test_split(x, y, test_size=0.3, random_state=42)"
      ],
      "execution_count": 29,
      "outputs": []
    },
    {
      "cell_type": "code",
      "metadata": {
        "colab": {
          "base_uri": "https://localhost:8080/"
        },
        "id": "6KukpAJGsl1a",
        "outputId": "122958d1-3008-4335-fdd9-04bdfbe6c913"
      },
      "source": [
        "import xgboost as xgb\r\n",
        "from xgboost import XGBRegressor\r\n",
        "from sklearn.model_selection import cross_val_score\r\n",
        "\r\n",
        "#build xgboost model\r\n",
        "model = XGBRegressor(seed=123,objective=\"reg:linear\",verbosity = 0)\r\n",
        "\r\n",
        "# evaluate default model with 5 fold cross validation on train set\r\n",
        "scores = cross_val_score(model,X_train,y_train, cv=5, scoring='neg_root_mean_squared_error')\r\n",
        "mean_score = abs(np.mean(scores))\r\n",
        "\r\n",
        "#fit model on entire train set and predict on test set\r\n",
        "model.fit(X_train, y_train)\r\n",
        "y_pred = model.predict(X_test)\r\n",
        "\r\n",
        "# evaluate predictions made on test set\r\n",
        "xg_def_rmse = np.sqrt(mean_squared_error(y_test, y_pred))\r\n",
        "xg_def_MAE= mean_absolute_error(y_test, y_pred)\r\n",
        "\r\n",
        "print('XGBoost (default parameters) mean cross validated RMSE on train set: ' + str(round(mean_score,2)))\r\n",
        "print()\r\n",
        "print(\"XGBoost (default parameters) RMSE on test set: \" + str(round(xg_def_rmse,2)))\r\n",
        "print()\r\n",
        "print(\"XGBoost (default parameters) MAE on test set: \" + str(round(xg_def_MAE,2)))"
      ],
      "execution_count": 32,
      "outputs": [
        {
          "output_type": "stream",
          "text": [
            "XGBoost (default parameters) mean cross validated RMSE on train set: 0.25\n",
            "\n",
            "XGBoost (default parameters) RMSE on test set: 0.24\n",
            "\n",
            "XGBoost (default parameters) MAE on test set: 0.18\n"
          ],
          "name": "stdout"
        }
      ]
    },
    {
      "cell_type": "code",
      "metadata": {
        "colab": {
          "base_uri": "https://localhost:8080/"
        },
        "id": "V5HJpKpsnx_q",
        "outputId": "ee96bbb5-df3e-4cc3-cd2e-7dc60a1cbf8a"
      },
      "source": [
        "steps = [('poly',PolynomialFeatures()), ('linear',LinearRegression())]\r\n",
        "pipeline = Pipeline(steps)\r\n",
        "\r\n",
        "# evaluate default model with 5 fold cross validation on train set\r\n",
        "scores = cross_val_score(pipeline,X_train,y_train, cv=5, scoring='neg_root_mean_squared_error')\r\n",
        "mean_score = abs(np.mean(scores))\r\n",
        "\r\n",
        "#fit model on entire train set and predict on test set\r\n",
        "pipeline.fit(X_train,y_train)\r\n",
        "y_pred_def = pipeline.predict(X_test)\r\n",
        "\r\n",
        "# evaluate predictions made on test set\r\n",
        "def_rmse = mean_squared_error(y_test, y_pred_def)\r\n",
        "def_rmse = np.sqrt(def_rmse)\r\n",
        "def_MAE=mean_absolute_error(y_test, y_pred_def)\r\n",
        "def_r2 = r2_score(y_test,y_pred_def)\r\n",
        "\r\n",
        "print('Polynomial Regression (default parameters) mean cross validated RMSE on train set: ' + str(round(mean_score,2)))\r\n",
        "print()\r\n",
        "print(\"Polynomial Regression (default parameters) R2 score on test set: \" + str(round(def_r2,1)))\r\n",
        "print()\r\n",
        "print(\"Polynomial Regression (default parameters) RMSE on test set: \" + str(round(def_rmse,2)))\r\n",
        "print()\r\n",
        "print(\"Polynomial Regression (default parameters) MAE on test set: \" + str(round(def_MAE,2)))"
      ],
      "execution_count": 35,
      "outputs": [
        {
          "output_type": "stream",
          "text": [
            "Polynomial Regression (default parameters) mean cross validated RMSE on train set: 0.3\n",
            "\n",
            "Polynomial Regression (default parameters) R2 score on test set: 0.6\n",
            "\n",
            "Polynomial Regression (default parameters) RMSE on test set: 0.3\n",
            "\n",
            "Polynomial Regression (default parameters) MAE on test set: 0.23\n"
          ],
          "name": "stdout"
        }
      ]
    },
    {
      "cell_type": "code",
      "metadata": {
        "id": "r1c8JcT-tTVb"
      },
      "source": [
        "import pickle\r\n",
        "#filename = 'model.pkl'\r\n",
        "#pickle.dump(model, open(filename, 'rb'))\r\n",
        "\r\n",
        "pickle.dump(pipeline, open('model_1.pkl','wb'))"
      ],
      "execution_count": 36,
      "outputs": []
    },
    {
      "cell_type": "markdown",
      "metadata": {
        "id": "7J31nGTla_HR"
      },
      "source": [
        "# Results:\r\n",
        "\r\n",
        "• I have used Polynomial regression(default and Hyperparameter tuned), Support vector Machines and XG Boost. (* I tried hyperparameter tunning for SVM and \r\n",
        "XG Boost, it took more than 2 hours and it was still running).\r\n",
        "\r\n",
        "• Evaluation metrics: Root mean Square error and Mean Absolute error.\r\n",
        "\r\n",
        "• Polynomial Default: RMSE-0.25, MAE-0.19\r\n",
        "\r\n",
        "• Polynomial(tuned): RMSE-0.25, MAE-0.19 \r\n",
        "\r\n",
        "• SVM: RMSE-0.29, MAE-0.19 \r\n",
        "\r\n",
        "• XG Boost: RMSE-0.22, MAE-0.17\r\n",
        "\r\n",
        "• Important Feature: \r\n",
        "  Ambient RH110,heart rate avg, skinRh109 and skintemp109 are highly important.\r\n",
        "\r\n",
        "• Best Model: XG boost with RMSE-0.22, MAE-0.17\r\n",
        "\r\n",
        "# Future works:\r\n",
        "\r\n",
        "• There is a scope of hyperparameter tuning (SVM and XG Boost) for this approach which can possibly improve the results. \r\n",
        "\r\n",
        "• Try to implemenmt other algorithms like Naive bayes, decision tree and advanced algorithms such as Neural Networks.\r\n",
        "\r\n",
        "• I have used 100,000 data points out of 2.7 million records. I'll use as much data as possible. More the data better the model.\r\n"
      ]
    }
  ]
}